{
 "cells": [
  {
   "cell_type": "markdown",
   "metadata": {},
   "source": [
    "# EDA"
   ]
  },
  {
   "cell_type": "markdown",
   "metadata": {},
   "source": [
    "### Importamos bibliotecas"
   ]
  },
  {
   "cell_type": "code",
   "execution_count": 46,
   "metadata": {},
   "outputs": [],
   "source": [
    "import ast\n",
    "import pandas as pd\n",
    "import matplotlib.pyplot as plt\n",
    "import seaborn as sns\n",
    "from pandas import json_normalize\n",
    "import json\n",
    "import os"
   ]
  },
  {
   "cell_type": "markdown",
   "metadata": {},
   "source": [
    "## Tablas de Yelp"
   ]
  },
  {
   "cell_type": "markdown",
   "metadata": {},
   "source": [
    "### 1) Reviews"
   ]
  },
  {
   "cell_type": "markdown",
   "metadata": {},
   "source": [
    "Cargamos el archivo en un df para empezar a explorar los datos:"
   ]
  },
  {
   "cell_type": "code",
   "execution_count": 20,
   "metadata": {},
   "outputs": [
    {
     "data": {
      "text/html": [
       "<div>\n",
       "<style scoped>\n",
       "    .dataframe tbody tr th:only-of-type {\n",
       "        vertical-align: middle;\n",
       "    }\n",
       "\n",
       "    .dataframe tbody tr th {\n",
       "        vertical-align: top;\n",
       "    }\n",
       "\n",
       "    .dataframe thead th {\n",
       "        text-align: right;\n",
       "    }\n",
       "</style>\n",
       "<table border=\"1\" class=\"dataframe\">\n",
       "  <thead>\n",
       "    <tr style=\"text-align: right;\">\n",
       "      <th></th>\n",
       "      <th>review_id</th>\n",
       "      <th>user_id</th>\n",
       "      <th>business_id</th>\n",
       "      <th>stars</th>\n",
       "      <th>useful</th>\n",
       "      <th>funny</th>\n",
       "      <th>cool</th>\n",
       "      <th>text</th>\n",
       "      <th>date</th>\n",
       "    </tr>\n",
       "  </thead>\n",
       "  <tbody>\n",
       "    <tr>\n",
       "      <th>0</th>\n",
       "      <td>KU_O5udG6zpxOg-VcAEodg</td>\n",
       "      <td>mh_-eMZ6K5RLWhZyISBhwA</td>\n",
       "      <td>XQfwVwDr-v0ZS3_CbbE5Xw</td>\n",
       "      <td>3.0</td>\n",
       "      <td>0</td>\n",
       "      <td>0</td>\n",
       "      <td>0</td>\n",
       "      <td>If you decide to eat here, just be aware it is...</td>\n",
       "      <td>2018-07-07 22:09:11</td>\n",
       "    </tr>\n",
       "    <tr>\n",
       "      <th>1</th>\n",
       "      <td>BiTunyQ73aT9WBnpR9DZGw</td>\n",
       "      <td>OyoGAe7OKpv6SyGZT5g77Q</td>\n",
       "      <td>7ATYjTIgM3jUlt4UM3IypQ</td>\n",
       "      <td>5.0</td>\n",
       "      <td>1</td>\n",
       "      <td>0</td>\n",
       "      <td>1</td>\n",
       "      <td>I've taken a lot of spin classes over the year...</td>\n",
       "      <td>2012-01-03 15:28:18</td>\n",
       "    </tr>\n",
       "    <tr>\n",
       "      <th>2</th>\n",
       "      <td>saUsX_uimxRlCVr67Z4Jig</td>\n",
       "      <td>8g_iMtfSiwikVnbP2etR0A</td>\n",
       "      <td>YjUWPpI6HXG530lwP-fb2A</td>\n",
       "      <td>3.0</td>\n",
       "      <td>0</td>\n",
       "      <td>0</td>\n",
       "      <td>0</td>\n",
       "      <td>Family diner. Had the buffet. Eclectic assortm...</td>\n",
       "      <td>2014-02-05 20:30:30</td>\n",
       "    </tr>\n",
       "    <tr>\n",
       "      <th>3</th>\n",
       "      <td>AqPFMleE6RsU23_auESxiA</td>\n",
       "      <td>_7bHUi9Uuf5__HHc_Q8guQ</td>\n",
       "      <td>kxX2SOes4o-D3ZQBkiMRfA</td>\n",
       "      <td>5.0</td>\n",
       "      <td>1</td>\n",
       "      <td>0</td>\n",
       "      <td>1</td>\n",
       "      <td>Wow!  Yummy, different,  delicious.   Our favo...</td>\n",
       "      <td>2015-01-04 00:01:03</td>\n",
       "    </tr>\n",
       "    <tr>\n",
       "      <th>4</th>\n",
       "      <td>Sx8TMOWLNuJBWer-0pcmoA</td>\n",
       "      <td>bcjbaE6dDog4jkNY91ncLQ</td>\n",
       "      <td>e4Vwtrqf-wpJfwesgvdgxQ</td>\n",
       "      <td>4.0</td>\n",
       "      <td>1</td>\n",
       "      <td>0</td>\n",
       "      <td>1</td>\n",
       "      <td>Cute interior and owner (?) gave us tour of up...</td>\n",
       "      <td>2017-01-14 20:54:15</td>\n",
       "    </tr>\n",
       "  </tbody>\n",
       "</table>\n",
       "</div>"
      ],
      "text/plain": [
       "                review_id                 user_id             business_id  \\\n",
       "0  KU_O5udG6zpxOg-VcAEodg  mh_-eMZ6K5RLWhZyISBhwA  XQfwVwDr-v0ZS3_CbbE5Xw   \n",
       "1  BiTunyQ73aT9WBnpR9DZGw  OyoGAe7OKpv6SyGZT5g77Q  7ATYjTIgM3jUlt4UM3IypQ   \n",
       "2  saUsX_uimxRlCVr67Z4Jig  8g_iMtfSiwikVnbP2etR0A  YjUWPpI6HXG530lwP-fb2A   \n",
       "3  AqPFMleE6RsU23_auESxiA  _7bHUi9Uuf5__HHc_Q8guQ  kxX2SOes4o-D3ZQBkiMRfA   \n",
       "4  Sx8TMOWLNuJBWer-0pcmoA  bcjbaE6dDog4jkNY91ncLQ  e4Vwtrqf-wpJfwesgvdgxQ   \n",
       "\n",
       "   stars  useful  funny  cool  \\\n",
       "0    3.0       0      0     0   \n",
       "1    5.0       1      0     1   \n",
       "2    3.0       0      0     0   \n",
       "3    5.0       1      0     1   \n",
       "4    4.0       1      0     1   \n",
       "\n",
       "                                                text                 date  \n",
       "0  If you decide to eat here, just be aware it is...  2018-07-07 22:09:11  \n",
       "1  I've taken a lot of spin classes over the year...  2012-01-03 15:28:18  \n",
       "2  Family diner. Had the buffet. Eclectic assortm...  2014-02-05 20:30:30  \n",
       "3  Wow!  Yummy, different,  delicious.   Our favo...  2015-01-04 00:01:03  \n",
       "4  Cute interior and owner (?) gave us tour of up...  2017-01-14 20:54:15  "
      ]
     },
     "execution_count": 20,
     "metadata": {},
     "output_type": "execute_result"
    }
   ],
   "source": [
    "reviewsYelp = pd.read_parquet('Yelp/reviewYelp.parquet')\n",
    "reviewsYelp.head()"
   ]
  },
  {
   "cell_type": "code",
   "execution_count": 21,
   "metadata": {},
   "outputs": [
    {
     "name": "stdout",
     "output_type": "stream",
     "text": [
      "<class 'pandas.core.frame.DataFrame'>\n",
      "RangeIndex: 6990280 entries, 0 to 6990279\n",
      "Data columns (total 9 columns):\n",
      " #   Column       Dtype  \n",
      "---  ------       -----  \n",
      " 0   review_id    object \n",
      " 1   user_id      object \n",
      " 2   business_id  object \n",
      " 3   stars        float64\n",
      " 4   useful       int64  \n",
      " 5   funny        int64  \n",
      " 6   cool         int64  \n",
      " 7   text         object \n",
      " 8   date         object \n",
      "dtypes: float64(1), int64(3), object(5)\n",
      "memory usage: 480.0+ MB\n"
     ]
    }
   ],
   "source": [
    "reviewsYelp.info()"
   ]
  },
  {
   "cell_type": "markdown",
   "metadata": {},
   "source": [
    "La tabla contiene 6,990,280 entradas y 9 columnas que incluyen información como el ID de la reseña, el ID del usuario, el ID del negocio, la calificación en estrellas, contadores de utilidad, diversión y frescura, el texto de la reseña y la fecha de la reseña. Los tipos de datos de las columnas incluyen objetos (cadenas de texto), flotantes y enteros."
   ]
  },
  {
   "cell_type": "code",
   "execution_count": 22,
   "metadata": {},
   "outputs": [
    {
     "data": {
      "text/plain": [
       "review_id      0\n",
       "user_id        0\n",
       "business_id    0\n",
       "stars          0\n",
       "useful         0\n",
       "funny          0\n",
       "cool           0\n",
       "text           0\n",
       "date           0\n",
       "dtype: int64"
      ]
     },
     "execution_count": 22,
     "metadata": {},
     "output_type": "execute_result"
    }
   ],
   "source": [
    "reviewsYelp.isnull().sum()"
   ]
  },
  {
   "cell_type": "code",
   "execution_count": 23,
   "metadata": {},
   "outputs": [
    {
     "data": {
      "text/plain": [
       "0"
      ]
     },
     "execution_count": 23,
     "metadata": {},
     "output_type": "execute_result"
    }
   ],
   "source": [
    "reviewsYelp.duplicated().sum()"
   ]
  },
  {
   "cell_type": "markdown",
   "metadata": {},
   "source": [
    "No se encuentran datos NULOS o filas DUPLICADAS"
   ]
  },
  {
   "cell_type": "code",
   "execution_count": 24,
   "metadata": {},
   "outputs": [
    {
     "data": {
      "text/plain": [
       "1987929"
      ]
     },
     "execution_count": 24,
     "metadata": {},
     "output_type": "execute_result"
    }
   ],
   "source": [
    "reviewsYelp['user_id'].nunique()"
   ]
  },
  {
   "cell_type": "code",
   "execution_count": 25,
   "metadata": {},
   "outputs": [
    {
     "data": {
      "text/plain": [
       "150346"
      ]
     },
     "execution_count": 25,
     "metadata": {},
     "output_type": "execute_result"
    }
   ],
   "source": [
    "reviewsYelp['business_id'].nunique()\n"
   ]
  },
  {
   "cell_type": "markdown",
   "metadata": {},
   "source": [
    "Hay 1987929 usuarios únicos que hicieron reviews sobre 150346 business únicos."
   ]
  },
  {
   "cell_type": "code",
   "execution_count": 26,
   "metadata": {},
   "outputs": [
    {
     "data": {
      "text/plain": [
       "array([3., 5., 4., 1., 2.])"
      ]
     },
     "execution_count": 26,
     "metadata": {},
     "output_type": "execute_result"
    }
   ],
   "source": [
    "reviewsYelp['stars'].unique()"
   ]
  },
  {
   "cell_type": "code",
   "execution_count": 27,
   "metadata": {},
   "outputs": [
    {
     "data": {
      "text/plain": [
       "'2005-02-16 03:23:22'"
      ]
     },
     "execution_count": 27,
     "metadata": {},
     "output_type": "execute_result"
    }
   ],
   "source": [
    "reviewsYelp['date'].min()"
   ]
  },
  {
   "cell_type": "code",
   "execution_count": 28,
   "metadata": {},
   "outputs": [
    {
     "data": {
      "text/plain": [
       "'2022-01-19 19:48:45'"
      ]
     },
     "execution_count": 28,
     "metadata": {},
     "output_type": "execute_result"
    }
   ],
   "source": [
    "reviewsYelp['date'].max()"
   ]
  },
  {
   "cell_type": "markdown",
   "metadata": {},
   "source": [
    "No hay outliers."
   ]
  },
  {
   "cell_type": "code",
   "execution_count": 29,
   "metadata": {},
   "outputs": [],
   "source": [
    "correlacion = reviewsYelp[['stars','useful','funny','cool']].corr()"
   ]
  },
  {
   "cell_type": "code",
   "execution_count": 30,
   "metadata": {},
   "outputs": [
    {
     "name": "stdout",
     "output_type": "stream",
     "text": [
      "           stars    useful     funny      cool\n",
      "stars   1.000000 -0.072458 -0.043217  0.068827\n",
      "useful -0.072458  1.000000  0.511803  0.718529\n",
      "funny  -0.043217  0.511803  1.000000  0.607310\n",
      "cool    0.068827  0.718529  0.607310  1.000000\n"
     ]
    }
   ],
   "source": [
    "print(correlacion)"
   ]
  },
  {
   "cell_type": "markdown",
   "metadata": {},
   "source": [
    "Nuestra columna principal es STARS -> NO encontramos correlacion significante con la indicación del usuario en si es useful, funny o cool."
   ]
  },
  {
   "cell_type": "markdown",
   "metadata": {},
   "source": [
    "DISTRIBUCION de 'STARS':"
   ]
  },
  {
   "cell_type": "code",
   "execution_count": 51,
   "metadata": {},
   "outputs": [
    {
     "data": {
      "image/png": "[encoded data removed]",
      "text/plain": [
       "<Figure size 500x500 with 1 Axes>"
      ]
     },
     "metadata": {},
     "output_type": "display_data"
    }
   ],
   "source": [
    "plt.figure(figsize=(5, 5))\n",
    "plt.bar(reviewsYelp['stars'].value_counts().index, reviewsYelp['stars'].value_counts(), color='skyblue')\n",
    "\n",
    "plt.title('Distribución de Estrellas', fontsize=16)\n",
    "plt.xlabel('Estrellas', fontsize=14)\n",
    "plt.ylabel('Frecuencia', fontsize=14)\n",
    "plt.show()"
   ]
  },
  {
   "cell_type": "code",
   "execution_count": 50,
   "metadata": {},
   "outputs": [
    {
     "data": {
      "image/png": "[encoded data removed]",
      "text/plain": [
       "<Figure size 400x400 with 1 Axes>"
      ]
     },
     "metadata": {},
     "output_type": "display_data"
    }
   ],
   "source": [
    "# Calcular el porcentaje de cada categoría de estrellas\n",
    "porcentajes = reviewsYelp['stars'].value_counts(normalize=True) * 100\n",
    "\n",
    "# Crear el gráfico de torta\n",
    "plt.figure(figsize=(4, 4))\n",
    "plt.pie(porcentajes, labels=porcentajes.index, autopct='%1.1f%%', colors=sns.color_palette('pastel'))\n",
    "plt.title('Porcentaje de Estrellas', fontsize=16)\n",
    "plt.show()"
   ]
  },
  {
   "cell_type": "markdown",
   "metadata": {},
   "source": [
    "Podemos observar que predomina muy fuertemente la cantidad de reviews con puntaje mayor a 3."
   ]
  },
  {
   "cell_type": "markdown",
   "metadata": {},
   "source": [
    "### 2) Business"
   ]
  },
  {
   "cell_type": "markdown",
   "metadata": {},
   "source": [
    "Cargamos el archivo en un df para empezar a anexplorar los datos:"
   ]
  },
  {
   "cell_type": "code",
   "execution_count": 2,
   "metadata": {},
   "outputs": [
    {
     "data": {
      "text/html": [
       "<div>\n",
       "<style scoped>\n",
       "    .dataframe tbody tr th:only-of-type {\n",
       "        vertical-align: middle;\n",
       "    }\n",
       "\n",
       "    .dataframe tbody tr th {\n",
       "        vertical-align: top;\n",
       "    }\n",
       "\n",
       "    .dataframe thead th {\n",
       "        text-align: right;\n",
       "    }\n",
       "</style>\n",
       "<table border=\"1\" class=\"dataframe\">\n",
       "  <thead>\n",
       "    <tr style=\"text-align: right;\">\n",
       "      <th></th>\n",
       "      <th>business_id</th>\n",
       "      <th>name</th>\n",
       "      <th>address</th>\n",
       "      <th>city</th>\n",
       "      <th>state</th>\n",
       "      <th>postal_code</th>\n",
       "      <th>latitude</th>\n",
       "      <th>longitude</th>\n",
       "      <th>stars</th>\n",
       "      <th>review_count</th>\n",
       "      <th>is_open</th>\n",
       "      <th>attributes</th>\n",
       "      <th>categories</th>\n",
       "      <th>hours</th>\n",
       "    </tr>\n",
       "  </thead>\n",
       "  <tbody>\n",
       "    <tr>\n",
       "      <th>0</th>\n",
       "      <td>Pns2l4eNsfO8kk83dixA6A</td>\n",
       "      <td>Abby Rappoport, LAC, CMQ</td>\n",
       "      <td>1616 Chapala St, Ste 2</td>\n",
       "      <td>Santa Barbara</td>\n",
       "      <td>None</td>\n",
       "      <td>93101</td>\n",
       "      <td>34.426679</td>\n",
       "      <td>-119.711197</td>\n",
       "      <td>5.0</td>\n",
       "      <td>7</td>\n",
       "      <td>0</td>\n",
       "      <td>{'AcceptsInsurance': None, 'AgesAllowed': None...</td>\n",
       "      <td>Doctors, Traditional Chinese Medicine, Naturop...</td>\n",
       "      <td>None</td>\n",
       "    </tr>\n",
       "    <tr>\n",
       "      <th>1</th>\n",
       "      <td>mpf3x-BjTdTEA3yCZrAYPw</td>\n",
       "      <td>The UPS Store</td>\n",
       "      <td>87 Grasso Plaza Shopping Center</td>\n",
       "      <td>Affton</td>\n",
       "      <td>None</td>\n",
       "      <td>63123</td>\n",
       "      <td>38.551126</td>\n",
       "      <td>-90.335695</td>\n",
       "      <td>3.0</td>\n",
       "      <td>15</td>\n",
       "      <td>1</td>\n",
       "      <td>{'AcceptsInsurance': None, 'AgesAllowed': None...</td>\n",
       "      <td>Shipping Centers, Local Services, Notaries, Ma...</td>\n",
       "      <td>{'Friday': '8:0-18:30', 'Monday': '0:0-0:0', '...</td>\n",
       "    </tr>\n",
       "    <tr>\n",
       "      <th>2</th>\n",
       "      <td>tUFrWirKiKi_TAnsVWINQQ</td>\n",
       "      <td>Target</td>\n",
       "      <td>5255 E Broadway Blvd</td>\n",
       "      <td>Tucson</td>\n",
       "      <td>None</td>\n",
       "      <td>85711</td>\n",
       "      <td>32.223236</td>\n",
       "      <td>-110.880452</td>\n",
       "      <td>3.5</td>\n",
       "      <td>22</td>\n",
       "      <td>0</td>\n",
       "      <td>{'AcceptsInsurance': None, 'AgesAllowed': None...</td>\n",
       "      <td>Department Stores, Shopping, Fashion, Home &amp; G...</td>\n",
       "      <td>{'Friday': '8:0-23:0', 'Monday': '8:0-22:0', '...</td>\n",
       "    </tr>\n",
       "    <tr>\n",
       "      <th>3</th>\n",
       "      <td>MTSW4McQd7CbVtyjqoe9mw</td>\n",
       "      <td>St Honore Pastries</td>\n",
       "      <td>935 Race St</td>\n",
       "      <td>Philadelphia</td>\n",
       "      <td>CA</td>\n",
       "      <td>19107</td>\n",
       "      <td>39.955505</td>\n",
       "      <td>-75.155564</td>\n",
       "      <td>4.0</td>\n",
       "      <td>80</td>\n",
       "      <td>1</td>\n",
       "      <td>{'AcceptsInsurance': None, 'AgesAllowed': None...</td>\n",
       "      <td>Restaurants, Food, Bubble Tea, Coffee &amp; Tea, B...</td>\n",
       "      <td>{'Friday': '7:0-21:0', 'Monday': '7:0-20:0', '...</td>\n",
       "    </tr>\n",
       "    <tr>\n",
       "      <th>4</th>\n",
       "      <td>mWMc6_wTdE0EUBKIGXDVfA</td>\n",
       "      <td>Perkiomen Valley Brewery</td>\n",
       "      <td>101 Walnut St</td>\n",
       "      <td>Green Lane</td>\n",
       "      <td>MO</td>\n",
       "      <td>18054</td>\n",
       "      <td>40.338183</td>\n",
       "      <td>-75.471659</td>\n",
       "      <td>4.5</td>\n",
       "      <td>13</td>\n",
       "      <td>1</td>\n",
       "      <td>{'AcceptsInsurance': None, 'AgesAllowed': None...</td>\n",
       "      <td>Brewpubs, Breweries, Food</td>\n",
       "      <td>{'Friday': '12:0-22:0', 'Monday': None, 'Satur...</td>\n",
       "    </tr>\n",
       "  </tbody>\n",
       "</table>\n",
       "</div>"
      ],
      "text/plain": [
       "              business_id                      name  \\\n",
       "0  Pns2l4eNsfO8kk83dixA6A  Abby Rappoport, LAC, CMQ   \n",
       "1  mpf3x-BjTdTEA3yCZrAYPw             The UPS Store   \n",
       "2  tUFrWirKiKi_TAnsVWINQQ                    Target   \n",
       "3  MTSW4McQd7CbVtyjqoe9mw        St Honore Pastries   \n",
       "4  mWMc6_wTdE0EUBKIGXDVfA  Perkiomen Valley Brewery   \n",
       "\n",
       "                           address           city state postal_code  \\\n",
       "0           1616 Chapala St, Ste 2  Santa Barbara  None       93101   \n",
       "1  87 Grasso Plaza Shopping Center         Affton  None       63123   \n",
       "2             5255 E Broadway Blvd         Tucson  None       85711   \n",
       "3                      935 Race St   Philadelphia    CA       19107   \n",
       "4                    101 Walnut St     Green Lane    MO       18054   \n",
       "\n",
       "    latitude   longitude  stars  review_count  is_open  \\\n",
       "0  34.426679 -119.711197    5.0             7        0   \n",
       "1  38.551126  -90.335695    3.0            15        1   \n",
       "2  32.223236 -110.880452    3.5            22        0   \n",
       "3  39.955505  -75.155564    4.0            80        1   \n",
       "4  40.338183  -75.471659    4.5            13        1   \n",
       "\n",
       "                                          attributes  \\\n",
       "0  {'AcceptsInsurance': None, 'AgesAllowed': None...   \n",
       "1  {'AcceptsInsurance': None, 'AgesAllowed': None...   \n",
       "2  {'AcceptsInsurance': None, 'AgesAllowed': None...   \n",
       "3  {'AcceptsInsurance': None, 'AgesAllowed': None...   \n",
       "4  {'AcceptsInsurance': None, 'AgesAllowed': None...   \n",
       "\n",
       "                                          categories  \\\n",
       "0  Doctors, Traditional Chinese Medicine, Naturop...   \n",
       "1  Shipping Centers, Local Services, Notaries, Ma...   \n",
       "2  Department Stores, Shopping, Fashion, Home & G...   \n",
       "3  Restaurants, Food, Bubble Tea, Coffee & Tea, B...   \n",
       "4                          Brewpubs, Breweries, Food   \n",
       "\n",
       "                                               hours  \n",
       "0                                               None  \n",
       "1  {'Friday': '8:0-18:30', 'Monday': '0:0-0:0', '...  \n",
       "2  {'Friday': '8:0-23:0', 'Monday': '8:0-22:0', '...  \n",
       "3  {'Friday': '7:0-21:0', 'Monday': '7:0-20:0', '...  \n",
       "4  {'Friday': '12:0-22:0', 'Monday': None, 'Satur...  "
      ]
     },
     "execution_count": 2,
     "metadata": {},
     "output_type": "execute_result"
    }
   ],
   "source": [
    "businessYelp = pd.read_parquet('Yelp/business.parquet')\n",
    "businessYelp.head()"
   ]
  },
  {
   "cell_type": "code",
   "execution_count": 3,
   "metadata": {},
   "outputs": [
    {
     "name": "stdout",
     "output_type": "stream",
     "text": [
      "<class 'pandas.core.frame.DataFrame'>\n",
      "RangeIndex: 150346 entries, 0 to 150345\n",
      "Data columns (total 14 columns):\n",
      " #   Column        Non-Null Count   Dtype  \n",
      "---  ------        --------------   -----  \n",
      " 0   business_id   150346 non-null  object \n",
      " 1   name          150346 non-null  object \n",
      " 2   address       150346 non-null  object \n",
      " 3   city          150346 non-null  object \n",
      " 4   state         150343 non-null  object \n",
      " 5   postal_code   150346 non-null  object \n",
      " 6   latitude      150346 non-null  float64\n",
      " 7   longitude     150346 non-null  float64\n",
      " 8   stars         150346 non-null  float64\n",
      " 9   review_count  150346 non-null  int64  \n",
      " 10  is_open       150346 non-null  int64  \n",
      " 11  attributes    136602 non-null  object \n",
      " 12  categories    150243 non-null  object \n",
      " 13  hours         127123 non-null  object \n",
      "dtypes: float64(3), int64(2), object(9)\n",
      "memory usage: 16.1+ MB\n"
     ]
    }
   ],
   "source": [
    "businessYelp.info()"
   ]
  },
  {
   "cell_type": "code",
   "execution_count": 4,
   "metadata": {},
   "outputs": [
    {
     "data": {
      "text/plain": [
       "business_id         0\n",
       "name                0\n",
       "address             0\n",
       "city                0\n",
       "state               3\n",
       "postal_code         0\n",
       "latitude            0\n",
       "longitude           0\n",
       "stars               0\n",
       "review_count        0\n",
       "is_open             0\n",
       "attributes      13744\n",
       "categories        103\n",
       "hours           23223\n",
       "dtype: int64"
      ]
     },
     "execution_count": 4,
     "metadata": {},
     "output_type": "execute_result"
    }
   ],
   "source": [
    "businessYelp.isnull().sum()\n"
   ]
  },
  {
   "cell_type": "markdown",
   "metadata": {},
   "source": [
    "Detectamos varios nulos, procedemos a borrar todas las filas que no tengan entrada de CATEGORIA. No se pueden clasificar."
   ]
  },
  {
   "cell_type": "code",
   "execution_count": 5,
   "metadata": {},
   "outputs": [],
   "source": [
    "businessYelp.dropna(subset=['categories'], inplace=True)"
   ]
  },
  {
   "cell_type": "markdown",
   "metadata": {},
   "source": [
    "Eliminamos los negocios que no estan abiertos:"
   ]
  },
  {
   "cell_type": "code",
   "execution_count": 6,
   "metadata": {},
   "outputs": [],
   "source": [
    "businessYelp = businessYelp[businessYelp['is_open']!=0]"
   ]
  },
  {
   "cell_type": "markdown",
   "metadata": {},
   "source": [
    "Seleccionamos solo las filas donde 'categories' contiene la palabra 'restaurant':"
   ]
  },
  {
   "cell_type": "code",
   "execution_count": 8,
   "metadata": {},
   "outputs": [],
   "source": [
    "businessYelp = businessYelp[businessYelp['categories'].str.contains('restaurant', case=False, na=False)]"
   ]
  },
  {
   "cell_type": "code",
   "execution_count": 10,
   "metadata": {},
   "outputs": [],
   "source": [
    "pd.set_option('display.max_columns', None)"
   ]
  },
  {
   "cell_type": "code",
   "execution_count": 18,
   "metadata": {},
   "outputs": [
    {
     "name": "stdout",
     "output_type": "stream",
     "text": [
      "<class 'pandas.core.frame.DataFrame'>\n",
      "Index: 35004 entries, 3 to 150339\n",
      "Data columns (total 14 columns):\n",
      " #   Column        Non-Null Count  Dtype  \n",
      "---  ------        --------------  -----  \n",
      " 0   business_id   35004 non-null  object \n",
      " 1   name          35004 non-null  object \n",
      " 2   address       35004 non-null  object \n",
      " 3   city          35004 non-null  object \n",
      " 4   state         35004 non-null  object \n",
      " 5   postal_code   35004 non-null  object \n",
      " 6   latitude      35004 non-null  float64\n",
      " 7   longitude     35004 non-null  float64\n",
      " 8   stars         35004 non-null  float64\n",
      " 9   review_count  35004 non-null  int64  \n",
      " 10  is_open       35004 non-null  int64  \n",
      " 11  attributes    34563 non-null  object \n",
      " 12  categories    35004 non-null  object \n",
      " 13  hours         31633 non-null  object \n",
      "dtypes: float64(3), int64(2), object(9)\n",
      "memory usage: 5.0+ MB\n"
     ]
    }
   ],
   "source": [
    "businessYelp.info()"
   ]
  },
  {
   "cell_type": "markdown",
   "metadata": {},
   "source": [
    "En este punto seguimos teniendo nulos en atributos y horas pero no nos afectan a este punto del trabajo. Mantendremos asi por el momento. "
   ]
  },
  {
   "cell_type": "markdown",
   "metadata": {},
   "source": [
    "Procedemos a desanidar la columna de atributos, aplanando en una columna por cada atributo unico que se encuentra dentro de estas entradas:"
   ]
  },
  {
   "cell_type": "code",
   "execution_count": 11,
   "metadata": {},
   "outputs": [
    {
     "data": {
      "text/html": [
       "<div>\n",
       "<style scoped>\n",
       "    .dataframe tbody tr th:only-of-type {\n",
       "        vertical-align: middle;\n",
       "    }\n",
       "\n",
       "    .dataframe tbody tr th {\n",
       "        vertical-align: top;\n",
       "    }\n",
       "\n",
       "    .dataframe thead th {\n",
       "        text-align: right;\n",
       "    }\n",
       "</style>\n",
       "<table border=\"1\" class=\"dataframe\">\n",
       "  <thead>\n",
       "    <tr style=\"text-align: right;\">\n",
       "      <th></th>\n",
       "      <th>business_id</th>\n",
       "      <th>name</th>\n",
       "      <th>address</th>\n",
       "      <th>city</th>\n",
       "      <th>state</th>\n",
       "      <th>postal_code</th>\n",
       "      <th>latitude</th>\n",
       "      <th>longitude</th>\n",
       "      <th>stars</th>\n",
       "      <th>review_count</th>\n",
       "      <th>is_open</th>\n",
       "      <th>attributes</th>\n",
       "      <th>categories</th>\n",
       "      <th>hours</th>\n",
       "      <th>AcceptsInsurance</th>\n",
       "      <th>AgesAllowed</th>\n",
       "      <th>Alcohol</th>\n",
       "      <th>Ambience</th>\n",
       "      <th>BYOB</th>\n",
       "      <th>BYOBCorkage</th>\n",
       "      <th>BestNights</th>\n",
       "      <th>BikeParking</th>\n",
       "      <th>BusinessAcceptsBitcoin</th>\n",
       "      <th>BusinessAcceptsCreditCards</th>\n",
       "      <th>BusinessParking</th>\n",
       "      <th>ByAppointmentOnly</th>\n",
       "      <th>Caters</th>\n",
       "      <th>CoatCheck</th>\n",
       "      <th>Corkage</th>\n",
       "      <th>DietaryRestrictions</th>\n",
       "      <th>DogsAllowed</th>\n",
       "      <th>DriveThru</th>\n",
       "      <th>GoodForDancing</th>\n",
       "      <th>GoodForKids</th>\n",
       "      <th>GoodForMeal</th>\n",
       "      <th>HairSpecializesIn</th>\n",
       "      <th>HappyHour</th>\n",
       "      <th>HasTV</th>\n",
       "      <th>Music</th>\n",
       "      <th>NoiseLevel</th>\n",
       "      <th>Open24Hours</th>\n",
       "      <th>OutdoorSeating</th>\n",
       "      <th>RestaurantsAttire</th>\n",
       "      <th>RestaurantsCounterService</th>\n",
       "      <th>RestaurantsDelivery</th>\n",
       "      <th>RestaurantsGoodForGroups</th>\n",
       "      <th>RestaurantsPriceRange2</th>\n",
       "      <th>RestaurantsReservations</th>\n",
       "      <th>RestaurantsTableService</th>\n",
       "      <th>RestaurantsTakeOut</th>\n",
       "      <th>Smoking</th>\n",
       "      <th>WheelchairAccessible</th>\n",
       "      <th>WiFi</th>\n",
       "    </tr>\n",
       "  </thead>\n",
       "  <tbody>\n",
       "    <tr>\n",
       "      <th>3</th>\n",
       "      <td>MTSW4McQd7CbVtyjqoe9mw</td>\n",
       "      <td>St Honore Pastries</td>\n",
       "      <td>935 Race St</td>\n",
       "      <td>Philadelphia</td>\n",
       "      <td>CA</td>\n",
       "      <td>19107</td>\n",
       "      <td>39.955505</td>\n",
       "      <td>-75.155564</td>\n",
       "      <td>4.0</td>\n",
       "      <td>80.0</td>\n",
       "      <td>1.0</td>\n",
       "      <td>{'AcceptsInsurance': None, 'AgesAllowed': None...</td>\n",
       "      <td>Restaurants, Food, Bubble Tea, Coffee &amp; Tea, B...</td>\n",
       "      <td>{'Friday': '7:0-21:0', 'Monday': '7:0-20:0', '...</td>\n",
       "      <td>None</td>\n",
       "      <td>None</td>\n",
       "      <td>'none'</td>\n",
       "      <td>{'touristy': False, 'hipster': False, 'romanti...</td>\n",
       "      <td>None</td>\n",
       "      <td>None</td>\n",
       "      <td>None</td>\n",
       "      <td>None</td>\n",
       "      <td>None</td>\n",
       "      <td>None</td>\n",
       "      <td>{'garage': False, 'street': False, 'validated'...</td>\n",
       "      <td>None</td>\n",
       "      <td>None</td>\n",
       "      <td>None</td>\n",
       "      <td>None</td>\n",
       "      <td>None</td>\n",
       "      <td>None</td>\n",
       "      <td>None</td>\n",
       "      <td>None</td>\n",
       "      <td>None</td>\n",
       "      <td>{'dessert': False, 'latenight': False, 'lunch'...</td>\n",
       "      <td>None</td>\n",
       "      <td>None</td>\n",
       "      <td>None</td>\n",
       "      <td>None</td>\n",
       "      <td>None</td>\n",
       "      <td>None</td>\n",
       "      <td>None</td>\n",
       "      <td>None</td>\n",
       "      <td>None</td>\n",
       "      <td>None</td>\n",
       "      <td>None</td>\n",
       "      <td>None</td>\n",
       "      <td>False</td>\n",
       "      <td>None</td>\n",
       "      <td>None</td>\n",
       "      <td>None</td>\n",
       "      <td>None</td>\n",
       "      <td>None</td>\n",
       "    </tr>\n",
       "    <tr>\n",
       "      <th>5</th>\n",
       "      <td>CF33F8-E6oudUQ46HnavjQ</td>\n",
       "      <td>Sonic Drive-In</td>\n",
       "      <td>615 S Main St</td>\n",
       "      <td>Ashland City</td>\n",
       "      <td>AZ</td>\n",
       "      <td>37015</td>\n",
       "      <td>36.269593</td>\n",
       "      <td>-87.058943</td>\n",
       "      <td>2.0</td>\n",
       "      <td>6.0</td>\n",
       "      <td>1.0</td>\n",
       "      <td>{'AcceptsInsurance': None, 'AgesAllowed': None...</td>\n",
       "      <td>Burgers, Fast Food, Sandwiches, Food, Ice Crea...</td>\n",
       "      <td>{'Friday': '9:0-0:0', 'Monday': '0:0-0:0', 'Sa...</td>\n",
       "      <td>None</td>\n",
       "      <td>None</td>\n",
       "      <td>'full_bar'</td>\n",
       "      <td>{'touristy': False, 'hipster': False, 'romanti...</td>\n",
       "      <td>None</td>\n",
       "      <td>None</td>\n",
       "      <td>None</td>\n",
       "      <td>None</td>\n",
       "      <td>None</td>\n",
       "      <td>True</td>\n",
       "      <td>{u'valet': False, u'garage': None, u'street': ...</td>\n",
       "      <td>None</td>\n",
       "      <td>None</td>\n",
       "      <td>None</td>\n",
       "      <td>None</td>\n",
       "      <td>None</td>\n",
       "      <td>False</td>\n",
       "      <td>None</td>\n",
       "      <td>None</td>\n",
       "      <td>False</td>\n",
       "      <td>{'dessert': True, 'latenight': None, 'lunch': ...</td>\n",
       "      <td>None</td>\n",
       "      <td>True</td>\n",
       "      <td>False</td>\n",
       "      <td>None</td>\n",
       "      <td>u'average'</td>\n",
       "      <td>None</td>\n",
       "      <td>True</td>\n",
       "      <td>'casual'</td>\n",
       "      <td>None</td>\n",
       "      <td>True</td>\n",
       "      <td>True</td>\n",
       "      <td>2</td>\n",
       "      <td>True</td>\n",
       "      <td>True</td>\n",
       "      <td>True</td>\n",
       "      <td>None</td>\n",
       "      <td>True</td>\n",
       "      <td>'free'</td>\n",
       "    </tr>\n",
       "    <tr>\n",
       "      <th>9</th>\n",
       "      <td>bBDDEgkFA1Otx9Lfe7BZUQ</td>\n",
       "      <td>Sonic Drive-In</td>\n",
       "      <td>2312 Dickerson Pike</td>\n",
       "      <td>Nashville</td>\n",
       "      <td>MO</td>\n",
       "      <td>37207</td>\n",
       "      <td>36.208102</td>\n",
       "      <td>-86.768170</td>\n",
       "      <td>1.5</td>\n",
       "      <td>10.0</td>\n",
       "      <td>1.0</td>\n",
       "      <td>{'AcceptsInsurance': None, 'AgesAllowed': None...</td>\n",
       "      <td>Ice Cream &amp; Frozen Yogurt, Fast Food, Burgers,...</td>\n",
       "      <td>{'Friday': '6:0-16:0', 'Monday': '0:0-0:0', 'S...</td>\n",
       "      <td>None</td>\n",
       "      <td>None</td>\n",
       "      <td>None</td>\n",
       "      <td>None</td>\n",
       "      <td>None</td>\n",
       "      <td>None</td>\n",
       "      <td>None</td>\n",
       "      <td>None</td>\n",
       "      <td>None</td>\n",
       "      <td>None</td>\n",
       "      <td>None</td>\n",
       "      <td>None</td>\n",
       "      <td>None</td>\n",
       "      <td>None</td>\n",
       "      <td>None</td>\n",
       "      <td>None</td>\n",
       "      <td>None</td>\n",
       "      <td>None</td>\n",
       "      <td>None</td>\n",
       "      <td>None</td>\n",
       "      <td>None</td>\n",
       "      <td>None</td>\n",
       "      <td>None</td>\n",
       "      <td>None</td>\n",
       "      <td>None</td>\n",
       "      <td>None</td>\n",
       "      <td>None</td>\n",
       "      <td>None</td>\n",
       "      <td>None</td>\n",
       "      <td>None</td>\n",
       "      <td>None</td>\n",
       "      <td>None</td>\n",
       "      <td>1</td>\n",
       "      <td>None</td>\n",
       "      <td>None</td>\n",
       "      <td>None</td>\n",
       "      <td>None</td>\n",
       "      <td>None</td>\n",
       "      <td>None</td>\n",
       "    </tr>\n",
       "    <tr>\n",
       "      <th>11</th>\n",
       "      <td>eEOYSgkmpB90uNA7lDOMRA</td>\n",
       "      <td>Vietnamese Food Truck</td>\n",
       "      <td></td>\n",
       "      <td>Tampa Bay</td>\n",
       "      <td>MO</td>\n",
       "      <td>33602</td>\n",
       "      <td>27.955269</td>\n",
       "      <td>-82.456320</td>\n",
       "      <td>4.0</td>\n",
       "      <td>10.0</td>\n",
       "      <td>1.0</td>\n",
       "      <td>{'AcceptsInsurance': None, 'AgesAllowed': None...</td>\n",
       "      <td>Vietnamese, Food, Restaurants, Food Trucks</td>\n",
       "      <td>{'Friday': '11:0-14:0', 'Monday': '11:0-14:0',...</td>\n",
       "      <td>None</td>\n",
       "      <td>None</td>\n",
       "      <td>None</td>\n",
       "      <td>{'touristy': False, 'hipster': False, 'romanti...</td>\n",
       "      <td>None</td>\n",
       "      <td>None</td>\n",
       "      <td>None</td>\n",
       "      <td>None</td>\n",
       "      <td>None</td>\n",
       "      <td>True</td>\n",
       "      <td>{'garage': False, 'street': False, 'validated'...</td>\n",
       "      <td>None</td>\n",
       "      <td>None</td>\n",
       "      <td>None</td>\n",
       "      <td>None</td>\n",
       "      <td>None</td>\n",
       "      <td>True</td>\n",
       "      <td>None</td>\n",
       "      <td>None</td>\n",
       "      <td>True</td>\n",
       "      <td>{'dessert': False, 'latenight': False, 'lunch'...</td>\n",
       "      <td>None</td>\n",
       "      <td>True</td>\n",
       "      <td>True</td>\n",
       "      <td>None</td>\n",
       "      <td>None</td>\n",
       "      <td>None</td>\n",
       "      <td>True</td>\n",
       "      <td>None</td>\n",
       "      <td>None</td>\n",
       "      <td>True</td>\n",
       "      <td>None</td>\n",
       "      <td>2</td>\n",
       "      <td>None</td>\n",
       "      <td>None</td>\n",
       "      <td>True</td>\n",
       "      <td>None</td>\n",
       "      <td>None</td>\n",
       "      <td>None</td>\n",
       "    </tr>\n",
       "    <tr>\n",
       "      <th>12</th>\n",
       "      <td>il_Ro8jwPlHresjw9EGmBg</td>\n",
       "      <td>Denny's</td>\n",
       "      <td>8901 US 31 S</td>\n",
       "      <td>Indianapolis</td>\n",
       "      <td>TN</td>\n",
       "      <td>46227</td>\n",
       "      <td>39.637133</td>\n",
       "      <td>-86.127217</td>\n",
       "      <td>2.5</td>\n",
       "      <td>28.0</td>\n",
       "      <td>1.0</td>\n",
       "      <td>{'AcceptsInsurance': None, 'AgesAllowed': None...</td>\n",
       "      <td>American (Traditional), Restaurants, Diners, B...</td>\n",
       "      <td>{'Friday': '6:0-22:0', 'Monday': '6:0-22:0', '...</td>\n",
       "      <td>None</td>\n",
       "      <td>None</td>\n",
       "      <td>u'full_bar'</td>\n",
       "      <td>{'touristy': False, 'hipster': False, 'romanti...</td>\n",
       "      <td>None</td>\n",
       "      <td>None</td>\n",
       "      <td>None</td>\n",
       "      <td>True</td>\n",
       "      <td>False</td>\n",
       "      <td>True</td>\n",
       "      <td>{'garage': False, 'street': True, 'validated':...</td>\n",
       "      <td>None</td>\n",
       "      <td>True</td>\n",
       "      <td>None</td>\n",
       "      <td>None</td>\n",
       "      <td>None</td>\n",
       "      <td>None</td>\n",
       "      <td>None</td>\n",
       "      <td>None</td>\n",
       "      <td>True</td>\n",
       "      <td>{'dessert': False, 'latenight': False, 'lunch'...</td>\n",
       "      <td>None</td>\n",
       "      <td>True</td>\n",
       "      <td>True</td>\n",
       "      <td>None</td>\n",
       "      <td>u'average'</td>\n",
       "      <td>None</td>\n",
       "      <td>True</td>\n",
       "      <td>u'casual'</td>\n",
       "      <td>None</td>\n",
       "      <td>False</td>\n",
       "      <td>True</td>\n",
       "      <td>2</td>\n",
       "      <td>True</td>\n",
       "      <td>True</td>\n",
       "      <td>True</td>\n",
       "      <td>None</td>\n",
       "      <td>True</td>\n",
       "      <td>'free'</td>\n",
       "    </tr>\n",
       "  </tbody>\n",
       "</table>\n",
       "</div>"
      ],
      "text/plain": [
       "               business_id                   name              address  \\\n",
       "3   MTSW4McQd7CbVtyjqoe9mw     St Honore Pastries          935 Race St   \n",
       "5   CF33F8-E6oudUQ46HnavjQ         Sonic Drive-In        615 S Main St   \n",
       "9   bBDDEgkFA1Otx9Lfe7BZUQ         Sonic Drive-In  2312 Dickerson Pike   \n",
       "11  eEOYSgkmpB90uNA7lDOMRA  Vietnamese Food Truck                        \n",
       "12  il_Ro8jwPlHresjw9EGmBg                Denny's         8901 US 31 S   \n",
       "\n",
       "            city state postal_code   latitude  longitude  stars  review_count  \\\n",
       "3   Philadelphia    CA       19107  39.955505 -75.155564    4.0          80.0   \n",
       "5   Ashland City    AZ       37015  36.269593 -87.058943    2.0           6.0   \n",
       "9      Nashville    MO       37207  36.208102 -86.768170    1.5          10.0   \n",
       "11     Tampa Bay    MO       33602  27.955269 -82.456320    4.0          10.0   \n",
       "12  Indianapolis    TN       46227  39.637133 -86.127217    2.5          28.0   \n",
       "\n",
       "    is_open                                         attributes  \\\n",
       "3       1.0  {'AcceptsInsurance': None, 'AgesAllowed': None...   \n",
       "5       1.0  {'AcceptsInsurance': None, 'AgesAllowed': None...   \n",
       "9       1.0  {'AcceptsInsurance': None, 'AgesAllowed': None...   \n",
       "11      1.0  {'AcceptsInsurance': None, 'AgesAllowed': None...   \n",
       "12      1.0  {'AcceptsInsurance': None, 'AgesAllowed': None...   \n",
       "\n",
       "                                           categories  \\\n",
       "3   Restaurants, Food, Bubble Tea, Coffee & Tea, B...   \n",
       "5   Burgers, Fast Food, Sandwiches, Food, Ice Crea...   \n",
       "9   Ice Cream & Frozen Yogurt, Fast Food, Burgers,...   \n",
       "11         Vietnamese, Food, Restaurants, Food Trucks   \n",
       "12  American (Traditional), Restaurants, Diners, B...   \n",
       "\n",
       "                                                hours AcceptsInsurance  \\\n",
       "3   {'Friday': '7:0-21:0', 'Monday': '7:0-20:0', '...             None   \n",
       "5   {'Friday': '9:0-0:0', 'Monday': '0:0-0:0', 'Sa...             None   \n",
       "9   {'Friday': '6:0-16:0', 'Monday': '0:0-0:0', 'S...             None   \n",
       "11  {'Friday': '11:0-14:0', 'Monday': '11:0-14:0',...             None   \n",
       "12  {'Friday': '6:0-22:0', 'Monday': '6:0-22:0', '...             None   \n",
       "\n",
       "   AgesAllowed      Alcohol  \\\n",
       "3         None       'none'   \n",
       "5         None   'full_bar'   \n",
       "9         None         None   \n",
       "11        None         None   \n",
       "12        None  u'full_bar'   \n",
       "\n",
       "                                             Ambience  BYOB BYOBCorkage  \\\n",
       "3   {'touristy': False, 'hipster': False, 'romanti...  None        None   \n",
       "5   {'touristy': False, 'hipster': False, 'romanti...  None        None   \n",
       "9                                                None  None        None   \n",
       "11  {'touristy': False, 'hipster': False, 'romanti...  None        None   \n",
       "12  {'touristy': False, 'hipster': False, 'romanti...  None        None   \n",
       "\n",
       "   BestNights BikeParking BusinessAcceptsBitcoin BusinessAcceptsCreditCards  \\\n",
       "3        None        None                   None                       None   \n",
       "5        None        None                   None                       True   \n",
       "9        None        None                   None                       None   \n",
       "11       None        None                   None                       True   \n",
       "12       None        True                  False                       True   \n",
       "\n",
       "                                      BusinessParking ByAppointmentOnly  \\\n",
       "3   {'garage': False, 'street': False, 'validated'...              None   \n",
       "5   {u'valet': False, u'garage': None, u'street': ...              None   \n",
       "9                                                None              None   \n",
       "11  {'garage': False, 'street': False, 'validated'...              None   \n",
       "12  {'garage': False, 'street': True, 'validated':...              None   \n",
       "\n",
       "   Caters CoatCheck Corkage DietaryRestrictions DogsAllowed DriveThru  \\\n",
       "3    None      None    None                None        None      None   \n",
       "5    None      None    None                None       False      None   \n",
       "9    None      None    None                None        None      None   \n",
       "11   None      None    None                None        True      None   \n",
       "12   True      None    None                None        None      None   \n",
       "\n",
       "   GoodForDancing GoodForKids  \\\n",
       "3            None        None   \n",
       "5            None       False   \n",
       "9            None        None   \n",
       "11           None        True   \n",
       "12           None        True   \n",
       "\n",
       "                                          GoodForMeal HairSpecializesIn  \\\n",
       "3   {'dessert': False, 'latenight': False, 'lunch'...              None   \n",
       "5   {'dessert': True, 'latenight': None, 'lunch': ...              None   \n",
       "9                                                None              None   \n",
       "11  {'dessert': False, 'latenight': False, 'lunch'...              None   \n",
       "12  {'dessert': False, 'latenight': False, 'lunch'...              None   \n",
       "\n",
       "   HappyHour  HasTV Music  NoiseLevel Open24Hours OutdoorSeating  \\\n",
       "3       None   None  None        None        None           None   \n",
       "5       True  False  None  u'average'        None           True   \n",
       "9       None   None  None        None        None           None   \n",
       "11      True   True  None        None        None           True   \n",
       "12      True   True  None  u'average'        None           True   \n",
       "\n",
       "   RestaurantsAttire RestaurantsCounterService RestaurantsDelivery  \\\n",
       "3               None                      None                None   \n",
       "5           'casual'                      None                True   \n",
       "9               None                      None                None   \n",
       "11              None                      None                True   \n",
       "12         u'casual'                      None               False   \n",
       "\n",
       "   RestaurantsGoodForGroups RestaurantsPriceRange2 RestaurantsReservations  \\\n",
       "3                      None                   None                   False   \n",
       "5                      True                      2                    True   \n",
       "9                      None                      1                    None   \n",
       "11                     None                      2                    None   \n",
       "12                     True                      2                    True   \n",
       "\n",
       "   RestaurantsTableService RestaurantsTakeOut Smoking WheelchairAccessible  \\\n",
       "3                     None               None    None                 None   \n",
       "5                     True               True    None                 True   \n",
       "9                     None               None    None                 None   \n",
       "11                    None               True    None                 None   \n",
       "12                    True               True    None                 True   \n",
       "\n",
       "      WiFi  \n",
       "3     None  \n",
       "5   'free'  \n",
       "9     None  \n",
       "11    None  \n",
       "12  'free'  "
      ]
     },
     "execution_count": 11,
     "metadata": {},
     "output_type": "execute_result"
    }
   ],
   "source": [
    "normalized_attributes= json_normalize(businessYelp['attributes'])\n",
    "\n",
    "normalizedBusiness=pd.concat([businessYelp,normalized_attributes], axis=1)\n",
    "normalizedBusiness.head()"
   ]
  },
  {
   "cell_type": "code",
   "execution_count": 17,
   "metadata": {},
   "outputs": [
    {
     "name": "stdout",
     "output_type": "stream",
     "text": [
      "<class 'pandas.core.frame.DataFrame'>\n",
      "Index: 61790 entries, 3 to 35003\n",
      "Data columns (total 53 columns):\n",
      " #   Column                      Non-Null Count  Dtype  \n",
      "---  ------                      --------------  -----  \n",
      " 0   business_id                 35004 non-null  object \n",
      " 1   name                        35004 non-null  object \n",
      " 2   address                     35004 non-null  object \n",
      " 3   city                        35004 non-null  object \n",
      " 4   state                       35004 non-null  object \n",
      " 5   postal_code                 35004 non-null  object \n",
      " 6   latitude                    35004 non-null  float64\n",
      " 7   longitude                   35004 non-null  float64\n",
      " 8   stars                       35004 non-null  float64\n",
      " 9   review_count                35004 non-null  float64\n",
      " 10  is_open                     35004 non-null  float64\n",
      " 11  attributes                  34563 non-null  object \n",
      " 12  categories                  35004 non-null  object \n",
      " 13  hours                       31633 non-null  object \n",
      " 14  AcceptsInsurance            16 non-null     object \n",
      " 15  AgesAllowed                 83 non-null     object \n",
      " 16  Alcohol                     25734 non-null  object \n",
      " 17  Ambience                    27577 non-null  object \n",
      " 18  BYOB                        3864 non-null   object \n",
      " 19  BYOBCorkage                 818 non-null    object \n",
      " 20  BestNights                  3552 non-null   object \n",
      " 21  BikeParking                 25269 non-null  object \n",
      " 22  BusinessAcceptsBitcoin      4904 non-null   object \n",
      " 23  BusinessAcceptsCreditCards  29783 non-null  object \n",
      " 24  BusinessParking             30125 non-null  object \n",
      " 25  ByAppointmentOnly           2829 non-null   object \n",
      " 26  Caters                      23780 non-null  object \n",
      " 27  CoatCheck                   3323 non-null   object \n",
      " 28  Corkage                     2946 non-null   object \n",
      " 29  DietaryRestrictions         19 non-null     object \n",
      " 30  DogsAllowed                 9331 non-null   object \n",
      " 31  DriveThru                   5488 non-null   object \n",
      " 32  GoodForDancing              2540 non-null   object \n",
      " 33  GoodForKids                 26035 non-null  object \n",
      " 34  GoodForMeal                 21575 non-null  object \n",
      " 35  HairSpecializesIn           1 non-null      object \n",
      " 36  HappyHour                   9527 non-null   object \n",
      " 37  HasTV                       27880 non-null  object \n",
      " 38  Music                       4250 non-null   object \n",
      " 39  NoiseLevel                  22213 non-null  object \n",
      " 40  Open24Hours                 19 non-null     object \n",
      " 41  OutdoorSeating              28312 non-null  object \n",
      " 42  RestaurantsAttire           24426 non-null  object \n",
      " 43  RestaurantsCounterService   16 non-null     object \n",
      " 44  RestaurantsDelivery         32296 non-null  object \n",
      " 45  RestaurantsGoodForGroups    26393 non-null  object \n",
      " 46  RestaurantsPriceRange2      28839 non-null  object \n",
      " 47  RestaurantsReservations     28053 non-null  object \n",
      " 48  RestaurantsTableService     14740 non-null  object \n",
      " 49  RestaurantsTakeOut          32800 non-null  object \n",
      " 50  Smoking                     2565 non-null   object \n",
      " 51  WheelchairAccessible        10382 non-null  object \n",
      " 52  WiFi                        25618 non-null  object \n",
      "dtypes: float64(5), object(48)\n",
      "memory usage: 25.5+ MB\n"
     ]
    }
   ],
   "source": [
    "normalizedBusiness.info()"
   ]
  },
  {
   "cell_type": "markdown",
   "metadata": {},
   "source": [
    "Es mucha data la que obtenemos.    \n",
    "Buscaremos reducir pensando en el objetivo de hacer un modelo de ML que considere algunas caracteristicas importantes.    \n",
    "Eso se definirá mas adelante en el proyecto."
   ]
  },
  {
   "cell_type": "markdown",
   "metadata": {},
   "source": [
    "Una opcion seria eliminar columnas que tengan menos del 40% de datos del total entradas que existen. Para dejar solo los atributos que tienen mayor peso."
   ]
  },
  {
   "cell_type": "code",
   "execution_count": 32,
   "metadata": {},
   "outputs": [],
   "source": [
    "# Calcula el 40% de las filas\n",
    "threshold = len(normalizedBusiness) * 0.4\n",
    "# Filtra las columnas que tienen más del 20% de datos no nulos\n",
    "normalizedBusiness = normalizedBusiness.dropna(thresh=threshold, axis=1)"
   ]
  },
  {
   "cell_type": "code",
   "execution_count": 33,
   "metadata": {},
   "outputs": [
    {
     "name": "stdout",
     "output_type": "stream",
     "text": [
      "<class 'pandas.core.frame.DataFrame'>\n",
      "Index: 61790 entries, 3 to 35003\n",
      "Data columns (total 28 columns):\n",
      " #   Column                      Non-Null Count  Dtype  \n",
      "---  ------                      --------------  -----  \n",
      " 0   business_id                 35004 non-null  object \n",
      " 1   name                        35004 non-null  object \n",
      " 2   address                     35004 non-null  object \n",
      " 3   city                        35004 non-null  object \n",
      " 4   state                       35004 non-null  object \n",
      " 5   postal_code                 35004 non-null  object \n",
      " 6   latitude                    35004 non-null  float64\n",
      " 7   longitude                   35004 non-null  float64\n",
      " 8   stars                       35004 non-null  float64\n",
      " 9   review_count                35004 non-null  float64\n",
      " 10  is_open                     35004 non-null  float64\n",
      " 11  attributes                  34563 non-null  object \n",
      " 12  categories                  35004 non-null  object \n",
      " 13  hours                       31633 non-null  object \n",
      " 14  Alcohol                     25734 non-null  object \n",
      " 15  Ambience                    27577 non-null  object \n",
      " 16  BikeParking                 25269 non-null  object \n",
      " 17  BusinessAcceptsCreditCards  29783 non-null  object \n",
      " 18  BusinessParking             30125 non-null  object \n",
      " 19  GoodForKids                 26035 non-null  object \n",
      " 20  HasTV                       27880 non-null  object \n",
      " 21  OutdoorSeating              28312 non-null  object \n",
      " 22  RestaurantsDelivery         32296 non-null  object \n",
      " 23  RestaurantsGoodForGroups    26393 non-null  object \n",
      " 24  RestaurantsPriceRange2      28839 non-null  object \n",
      " 25  RestaurantsReservations     28053 non-null  object \n",
      " 26  RestaurantsTakeOut          32800 non-null  object \n",
      " 27  WiFi                        25618 non-null  object \n",
      "dtypes: float64(5), object(23)\n",
      "memory usage: 13.7+ MB\n"
     ]
    }
   ],
   "source": [
    "normalizedBusiness.info()"
   ]
  },
  {
   "cell_type": "code",
   "execution_count": 34,
   "metadata": {},
   "outputs": [
    {
     "data": {
      "text/plain": [
       "array([None, \"'free'\", \"u'no'\", \"u'free'\", \"u'paid'\", \"'no'\", \"'paid'\",\n",
       "       nan, 'None'], dtype=object)"
      ]
     },
     "execution_count": 34,
     "metadata": {},
     "output_type": "execute_result"
    }
   ],
   "source": [
    "normalizedBusiness['WiFi'].unique()"
   ]
  },
  {
   "cell_type": "code",
   "execution_count": 35,
   "metadata": {},
   "outputs": [
    {
     "data": {
      "text/plain": [
       "array([None, '2', '1', '3', nan, '4', 'None'], dtype=object)"
      ]
     },
     "execution_count": 35,
     "metadata": {},
     "output_type": "execute_result"
    }
   ],
   "source": [
    "normalizedBusiness['RestaurantsPriceRange2'].unique()\n"
   ]
  },
  {
   "cell_type": "markdown",
   "metadata": {},
   "source": [
    "PriceRange no logramos entender a que corresponde asique se elimina"
   ]
  },
  {
   "cell_type": "code",
   "execution_count": 36,
   "metadata": {},
   "outputs": [],
   "source": [
    "normalizedBusiness = normalizedBusiness.drop('RestaurantsPriceRange2', axis=1)"
   ]
  },
  {
   "cell_type": "code",
   "execution_count": 37,
   "metadata": {},
   "outputs": [
    {
     "name": "stdout",
     "output_type": "stream",
     "text": [
      "<class 'pandas.core.frame.DataFrame'>\n",
      "Index: 61790 entries, 3 to 35003\n",
      "Data columns (total 27 columns):\n",
      " #   Column                      Non-Null Count  Dtype  \n",
      "---  ------                      --------------  -----  \n",
      " 0   business_id                 35004 non-null  object \n",
      " 1   name                        35004 non-null  object \n",
      " 2   address                     35004 non-null  object \n",
      " 3   city                        35004 non-null  object \n",
      " 4   state                       35004 non-null  object \n",
      " 5   postal_code                 35004 non-null  object \n",
      " 6   latitude                    35004 non-null  float64\n",
      " 7   longitude                   35004 non-null  float64\n",
      " 8   stars                       35004 non-null  float64\n",
      " 9   review_count                35004 non-null  float64\n",
      " 10  is_open                     35004 non-null  float64\n",
      " 11  attributes                  34563 non-null  object \n",
      " 12  categories                  35004 non-null  object \n",
      " 13  hours                       31633 non-null  object \n",
      " 14  Alcohol                     25734 non-null  object \n",
      " 15  Ambience                    27577 non-null  object \n",
      " 16  BikeParking                 25269 non-null  object \n",
      " 17  BusinessAcceptsCreditCards  29783 non-null  object \n",
      " 18  BusinessParking             30125 non-null  object \n",
      " 19  GoodForKids                 26035 non-null  object \n",
      " 20  HasTV                       27880 non-null  object \n",
      " 21  OutdoorSeating              28312 non-null  object \n",
      " 22  RestaurantsDelivery         32296 non-null  object \n",
      " 23  RestaurantsGoodForGroups    26393 non-null  object \n",
      " 24  RestaurantsReservations     28053 non-null  object \n",
      " 25  RestaurantsTakeOut          32800 non-null  object \n",
      " 26  WiFi                        25618 non-null  object \n",
      "dtypes: float64(5), object(22)\n",
      "memory usage: 13.2+ MB\n"
     ]
    }
   ],
   "source": [
    "normalizedBusiness.info()"
   ]
  },
  {
   "cell_type": "markdown",
   "metadata": {},
   "source": [
    "Los analisis de distribucion de esta tabla los desarrollaremos para el segundo demo del proyecto.   \n",
    "Con el objetivo de definir los atributos necesarios para el modelo. "
   ]
  },
  {
   "cell_type": "markdown",
   "metadata": {},
   "source": [
    "### 3) Checkin"
   ]
  },
  {
   "cell_type": "markdown",
   "metadata": {},
   "source": [
    "Cargamos el archivo en un df para empezar a anexplorar los datos:"
   ]
  },
  {
   "cell_type": "code",
   "execution_count": 39,
   "metadata": {},
   "outputs": [
    {
     "data": {
      "text/html": [
       "<div>\n",
       "<style scoped>\n",
       "    .dataframe tbody tr th:only-of-type {\n",
       "        vertical-align: middle;\n",
       "    }\n",
       "\n",
       "    .dataframe tbody tr th {\n",
       "        vertical-align: top;\n",
       "    }\n",
       "\n",
       "    .dataframe thead th {\n",
       "        text-align: right;\n",
       "    }\n",
       "</style>\n",
       "<table border=\"1\" class=\"dataframe\">\n",
       "  <thead>\n",
       "    <tr style=\"text-align: right;\">\n",
       "      <th></th>\n",
       "      <th>business_id</th>\n",
       "      <th>date</th>\n",
       "    </tr>\n",
       "  </thead>\n",
       "  <tbody>\n",
       "    <tr>\n",
       "      <th>0</th>\n",
       "      <td>---kPU91CF4Lq2-WlRu9Lw</td>\n",
       "      <td>2020-03-13 21:10:56, 2020-06-02 22:18:06, 2020...</td>\n",
       "    </tr>\n",
       "    <tr>\n",
       "      <th>1</th>\n",
       "      <td>--0iUa4sNDFiZFrAdIWhZQ</td>\n",
       "      <td>2010-09-13 21:43:09, 2011-05-04 23:08:15, 2011...</td>\n",
       "    </tr>\n",
       "    <tr>\n",
       "      <th>2</th>\n",
       "      <td>--30_8IhuyMHbSOcNWd6DQ</td>\n",
       "      <td>2013-06-14 23:29:17, 2014-08-13 23:20:22</td>\n",
       "    </tr>\n",
       "    <tr>\n",
       "      <th>3</th>\n",
       "      <td>--7PUidqRWpRSpXebiyxTg</td>\n",
       "      <td>2011-02-15 17:12:00, 2011-07-28 02:46:10, 2012...</td>\n",
       "    </tr>\n",
       "    <tr>\n",
       "      <th>4</th>\n",
       "      <td>--7jw19RH9JKXgFohspgQw</td>\n",
       "      <td>2014-04-21 20:42:11, 2014-04-28 21:04:46, 2014...</td>\n",
       "    </tr>\n",
       "  </tbody>\n",
       "</table>\n",
       "</div>"
      ],
      "text/plain": [
       "              business_id                                               date\n",
       "0  ---kPU91CF4Lq2-WlRu9Lw  2020-03-13 21:10:56, 2020-06-02 22:18:06, 2020...\n",
       "1  --0iUa4sNDFiZFrAdIWhZQ  2010-09-13 21:43:09, 2011-05-04 23:08:15, 2011...\n",
       "2  --30_8IhuyMHbSOcNWd6DQ           2013-06-14 23:29:17, 2014-08-13 23:20:22\n",
       "3  --7PUidqRWpRSpXebiyxTg  2011-02-15 17:12:00, 2011-07-28 02:46:10, 2012...\n",
       "4  --7jw19RH9JKXgFohspgQw  2014-04-21 20:42:11, 2014-04-28 21:04:46, 2014..."
      ]
     },
     "execution_count": 39,
     "metadata": {},
     "output_type": "execute_result"
    }
   ],
   "source": [
    "rowsch = []\n",
    "with open('Yelp/checkin.json', 'rt',encoding= 'utf-8') as f:\n",
    "    for line in f.readlines():\n",
    "        rowsch.append(ast.literal_eval(line))\n",
    "checkinYelp = pd.DataFrame(rowsch)\n",
    "checkinYelp.head()"
   ]
  },
  {
   "cell_type": "code",
   "execution_count": 40,
   "metadata": {},
   "outputs": [
    {
     "name": "stdout",
     "output_type": "stream",
     "text": [
      "<class 'pandas.core.frame.DataFrame'>\n",
      "RangeIndex: 131930 entries, 0 to 131929\n",
      "Data columns (total 2 columns):\n",
      " #   Column       Non-Null Count   Dtype \n",
      "---  ------       --------------   ----- \n",
      " 0   business_id  131930 non-null  object\n",
      " 1   date         131930 non-null  object\n",
      "dtypes: object(2)\n",
      "memory usage: 2.0+ MB\n"
     ]
    }
   ],
   "source": [
    "checkinYelp.info()"
   ]
  },
  {
   "cell_type": "markdown",
   "metadata": {},
   "source": [
    "No hay nulos"
   ]
  },
  {
   "cell_type": "code",
   "execution_count": 41,
   "metadata": {},
   "outputs": [
    {
     "data": {
      "text/plain": [
       "131930"
      ]
     },
     "execution_count": 41,
     "metadata": {},
     "output_type": "execute_result"
    }
   ],
   "source": [
    "checkinYelp['business_id'].nunique()"
   ]
  },
  {
   "cell_type": "markdown",
   "metadata": {},
   "source": [
    "Se observa que cada fila corresponde a un Business UNICO con sus correspondientes fechas de checkin."
   ]
  },
  {
   "cell_type": "markdown",
   "metadata": {},
   "source": [
    "En proxima etapa del proyecto analizaremos la cantidad de checkin por cada business considerando el ESTADO a donde CORRESPONDE cada uno.    \n",
    "Eso nos va a dar informacion valiosa para nuestro objetivo general."
   ]
  },
  {
   "cell_type": "markdown",
   "metadata": {},
   "source": [
    "### 4) Tip"
   ]
  },
  {
   "cell_type": "markdown",
   "metadata": {},
   "source": [
    "Este archivo no nos sera de utilidad para nuestro negocio."
   ]
  },
  {
   "cell_type": "markdown",
   "metadata": {},
   "source": [
    "### 5) User"
   ]
  },
  {
   "cell_type": "markdown",
   "metadata": {},
   "source": [
    "Este archivo no nos sera de utilidad para nuestro negocio."
   ]
  },
  {
   "cell_type": "markdown",
   "metadata": {},
   "source": [
    "## Tablas de Google Maps"
   ]
  },
  {
   "cell_type": "markdown",
   "metadata": {},
   "source": [
    "### 1) Reviews"
   ]
  },
  {
   "cell_type": "markdown",
   "metadata": {},
   "source": [
    "Nos centraremos unicamente en los estados del SUR:   \n",
    "Alabama, Arizona, Arkansas, California, Florida, Georgia, Louisiana, Mississippi, New Mexico, North Carolina, Oklahoma, South Carolina, Tennessee, Texas."
   ]
  },
  {
   "cell_type": "markdown",
   "metadata": {},
   "source": [
    "Aquí se encuentran los reviews de los business de cada estado.   \n",
    "Para la exploración hicimos una muestra RANDOM. Extrajimos el 1 % de cada uno de los listados originales de reviews x estado.   \n",
    "Luego los unimos en 1 solo archivo como se ve a continuación:"
   ]
  },
  {
   "cell_type": "code",
   "execution_count": null,
   "metadata": {},
   "outputs": [],
   "source": [
    "# Lista de archivos JSON\n",
    "files = [\n",
    "    'alabama.json',\n",
    "    'arizona.json',\n",
    "    'arkansas.json',\n",
    "    'california.json',\n",
    "    'florida.json',\n",
    "    'georgia.json',\n",
    "    'louisiana.json',\n",
    "    'mississippi.json',\n",
    "    'new_mexico.json',\n",
    "    'north_carolina.json',\n",
    "    'oklahoma.json',\n",
    "    'south_carolina.json',\n",
    "    'tennessee.json',\n",
    "    'texas.json'\n",
    "]\n",
    "\n",
    "# Lista para almacenar los DataFrames de cada ciudad\n",
    "dfs = []\n",
    "\n",
    "# Recorrer cada archivo\n",
    "for file in files:\n",
    "    # Obtener el nombre de la ciudad desde el nombre del archivo\n",
    "    city = os.path.splitext(file)[0]\n",
    "    \n",
    "    # Leer el archivo JSON\n",
    "    with open(file, 'r') as json_file:\n",
    "        data = json.load(json_file)\n",
    "    \n",
    "    # Convertir la lista de diccionarios a un DataFrame\n",
    "    df = pd.DataFrame(data)\n",
    "    \n",
    "    # Agregar la columna de la ciudad\n",
    "    df['City'] = city\n",
    "    \n",
    "    # Agregar el DataFrame a la lista\n",
    "    dfs.append(df)\n",
    "\n",
    "# Concatenar todos los DataFrames en uno solo\n",
    "result_df = pd.concat(dfs, ignore_index=True)\n",
    "\n",
    "# Guardar el DataFrame resultante como un archivo CSV\n",
    "# result_df.to_csv('result.csv', index=False)"
   ]
  },
  {
   "cell_type": "markdown",
   "metadata": {},
   "source": [
    "De esa forma se obtuvo el DF que exploramos a continuación:"
   ]
  },
  {
   "cell_type": "code",
   "execution_count": 47,
   "metadata": {},
   "outputs": [
    {
     "data": {
      "text/html": [
       "<div>\n",
       "<style scoped>\n",
       "    .dataframe tbody tr th:only-of-type {\n",
       "        vertical-align: middle;\n",
       "    }\n",
       "\n",
       "    .dataframe tbody tr th {\n",
       "        vertical-align: top;\n",
       "    }\n",
       "\n",
       "    .dataframe thead th {\n",
       "        text-align: right;\n",
       "    }\n",
       "</style>\n",
       "<table border=\"1\" class=\"dataframe\">\n",
       "  <thead>\n",
       "    <tr style=\"text-align: right;\">\n",
       "      <th></th>\n",
       "      <th>user_id</th>\n",
       "      <th>name</th>\n",
       "      <th>time</th>\n",
       "      <th>rating</th>\n",
       "      <th>text</th>\n",
       "      <th>resp</th>\n",
       "      <th>gmap_id</th>\n",
       "      <th>City</th>\n",
       "    </tr>\n",
       "  </thead>\n",
       "  <tbody>\n",
       "    <tr>\n",
       "      <th>0</th>\n",
       "      <td>11621187975813818</td>\n",
       "      <td>Mac Cone</td>\n",
       "      <td>2019-12-01T12:25:00.661000</td>\n",
       "      <td>5</td>\n",
       "      <td>Nice folks.</td>\n",
       "      <td>0</td>\n",
       "      <td>0x8889b77854e1ec1f:0x8fde710aeaf760e2</td>\n",
       "      <td>alabama</td>\n",
       "    </tr>\n",
       "    <tr>\n",
       "      <th>1</th>\n",
       "      <td>11474253795872725</td>\n",
       "      <td>Karma Goree</td>\n",
       "      <td>2018-09-24T03:07:16.858000</td>\n",
       "      <td>5</td>\n",
       "      <td>Were never disappointed!</td>\n",
       "      <td>0</td>\n",
       "      <td>0x888debec27756995:0xdc46bffb63e6a815</td>\n",
       "      <td>alabama</td>\n",
       "    </tr>\n",
       "    <tr>\n",
       "      <th>2</th>\n",
       "      <td>10536537009830606</td>\n",
       "      <td>Dan Merenda</td>\n",
       "      <td>2020-07-23T20:23:12.783000</td>\n",
       "      <td>5</td>\n",
       "      <td>Great dental office. Fast friendly and quality...</td>\n",
       "      <td>0</td>\n",
       "      <td>0x886268e624c6b781:0xd88fd99057c7f6bb</td>\n",
       "      <td>alabama</td>\n",
       "    </tr>\n",
       "    <tr>\n",
       "      <th>3</th>\n",
       "      <td>11606278902687264</td>\n",
       "      <td>nikki ward</td>\n",
       "      <td>2019-11-10T20:11:38.100000</td>\n",
       "      <td>5</td>\n",
       "      <td>I love my church</td>\n",
       "      <td>0</td>\n",
       "      <td>0x88891e87f3e6c33d:0x39a7b75d5ae99e68</td>\n",
       "      <td>alabama</td>\n",
       "    </tr>\n",
       "    <tr>\n",
       "      <th>4</th>\n",
       "      <td>11828983484381695</td>\n",
       "      <td>Shane Atchison</td>\n",
       "      <td>2017-03-24T08:31:59.116000</td>\n",
       "      <td>5</td>\n",
       "      <td>Great staff</td>\n",
       "      <td>0</td>\n",
       "      <td>0x888c0b77f86a278b:0xef90f2f8ca03aff9</td>\n",
       "      <td>alabama</td>\n",
       "    </tr>\n",
       "  </tbody>\n",
       "</table>\n",
       "</div>"
      ],
      "text/plain": [
       "             user_id            name                        time  rating  \\\n",
       "0  11621187975813818        Mac Cone  2019-12-01T12:25:00.661000       5   \n",
       "1  11474253795872725     Karma Goree  2018-09-24T03:07:16.858000       5   \n",
       "2  10536537009830606     Dan Merenda  2020-07-23T20:23:12.783000       5   \n",
       "3  11606278902687264      nikki ward  2019-11-10T20:11:38.100000       5   \n",
       "4  11828983484381695  Shane Atchison  2017-03-24T08:31:59.116000       5   \n",
       "\n",
       "                                                text  resp  \\\n",
       "0                                        Nice folks.     0   \n",
       "1                           Were never disappointed!     0   \n",
       "2  Great dental office. Fast friendly and quality...     0   \n",
       "3                                   I love my church     0   \n",
       "4                                        Great staff     0   \n",
       "\n",
       "                                 gmap_id     City  \n",
       "0  0x8889b77854e1ec1f:0x8fde710aeaf760e2  alabama  \n",
       "1  0x888debec27756995:0xdc46bffb63e6a815  alabama  \n",
       "2  0x886268e624c6b781:0xd88fd99057c7f6bb  alabama  \n",
       "3  0x88891e87f3e6c33d:0x39a7b75d5ae99e68  alabama  \n",
       "4  0x888c0b77f86a278b:0xef90f2f8ca03aff9  alabama  "
      ]
     },
     "execution_count": 47,
     "metadata": {},
     "output_type": "execute_result"
    }
   ],
   "source": [
    "reviewsGM= pd.read_csv('GM/reviews/reviews_sur.csv')\n",
    "reviewsGM.head()"
   ]
  },
  {
   "cell_type": "code",
   "execution_count": 48,
   "metadata": {},
   "outputs": [
    {
     "name": "stdout",
     "output_type": "stream",
     "text": [
      "<class 'pandas.core.frame.DataFrame'>\n",
      "RangeIndex: 161185 entries, 0 to 161184\n",
      "Data columns (total 8 columns):\n",
      " #   Column   Non-Null Count   Dtype \n",
      "---  ------   --------------   ----- \n",
      " 0   user_id  161185 non-null  int64 \n",
      " 1   name     161184 non-null  object\n",
      " 2   time     161185 non-null  object\n",
      " 3   rating   161185 non-null  int64 \n",
      " 4   text     161180 non-null  object\n",
      " 5   resp     161185 non-null  int64 \n",
      " 6   gmap_id  161185 non-null  object\n",
      " 7   City     161185 non-null  object\n",
      "dtypes: int64(3), object(5)\n",
      "memory usage: 9.8+ MB\n"
     ]
    }
   ],
   "source": [
    "reviewsGM.info()"
   ]
  },
  {
   "cell_type": "markdown",
   "metadata": {},
   "source": [
    "No hay nulos"
   ]
  },
  {
   "cell_type": "code",
   "execution_count": 49,
   "metadata": {},
   "outputs": [
    {
     "data": {
      "text/plain": [
       "150318"
      ]
     },
     "execution_count": 49,
     "metadata": {},
     "output_type": "execute_result"
    }
   ],
   "source": [
    "reviewsGM['user_id'].nunique()"
   ]
  },
  {
   "cell_type": "markdown",
   "metadata": {},
   "source": [
    "Pueden haber usuarios repetidos en esta base de datos, significaria que han dejado reviews en distintos business o estados."
   ]
  },
  {
   "cell_type": "markdown",
   "metadata": {},
   "source": [
    "Analizamos a continuacion DISTRIBUCION por RATING:"
   ]
  },
  {
   "cell_type": "code",
   "execution_count": 50,
   "metadata": {},
   "outputs": [
    {
     "name": "stdout",
     "output_type": "stream",
     "text": [
      "Distribución por rating:\n",
      "rating\n",
      "1     12814\n",
      "2      5881\n",
      "3     11658\n",
      "4     26169\n",
      "5    104663\n",
      "Name: count, dtype: int64\n"
     ]
    }
   ],
   "source": [
    "rating_distribution = reviewsGM['rating'].value_counts().sort_index()\n",
    "print(\"Distribución por rating:\")\n",
    "print(rating_distribution)"
   ]
  },
  {
   "cell_type": "code",
   "execution_count": 51,
   "metadata": {},
   "outputs": [
    {
     "data": {
      "image/png": "[encoded data removed]",
      "text/plain": [
       "<Figure size 800x500 with 1 Axes>"
      ]
     },
     "metadata": {},
     "output_type": "display_data"
    },
    {
     "data": {
      "image/png": "[encoded data removed]",
      "text/plain": [
       "<Figure size 800x800 with 1 Axes>"
      ]
     },
     "metadata": {},
     "output_type": "display_data"
    }
   ],
   "source": [
    "# Gráfico de barras\n",
    "plt.figure(figsize=(8, 5))\n",
    "plt.bar(rating_distribution.index, rating_distribution.values, color='skyblue')\n",
    "plt.xlabel('Rating')\n",
    "plt.ylabel('Número de Reseñas')\n",
    "plt.title('Distribución de Ratings en ReviewsGM (Gráfico de Barras)')\n",
    "plt.show()\n",
    "\n",
    "# Gráfico de torta\n",
    "plt.figure(figsize=(8, 8))\n",
    "plt.pie(rating_distribution, labels=rating_distribution.index, autopct='%1.1f%%', startangle=90, colors=['lightcoral', 'lightskyblue', 'lightgreen', 'gold', 'lightpink'])\n",
    "plt.title('Distribución de Ratings en ReviewsGM (Gráfico de Torta)')\n",
    "plt.show()"
   ]
  },
  {
   "cell_type": "markdown",
   "metadata": {},
   "source": [
    "Podemos observar que al igual que en YELP, los ratings de 5 y 4 predominan ampliamente los registros."
   ]
  },
  {
   "cell_type": "markdown",
   "metadata": {},
   "source": [
    "Ranking de cantidad de reviews por estado:"
   ]
  },
  {
   "cell_type": "code",
   "execution_count": 52,
   "metadata": {},
   "outputs": [
    {
     "name": "stdout",
     "output_type": "stream",
     "text": [
      "Ranking de cantidad de reviews por estado:\n",
      "City\n",
      "florida           16562\n",
      "california        14609\n",
      "texas             13223\n",
      "arkansas          12719\n",
      "north_carolina    12688\n",
      "arizona           12313\n",
      "south_carolina    11668\n",
      "georgia           10979\n",
      "mississippi       10047\n",
      "tennessee          9958\n",
      "new_mexico         9923\n",
      "alabama            9526\n",
      "oklahoma           9201\n",
      "louisiana          7769\n",
      "Name: count, dtype: int64\n"
     ]
    },
    {
     "data": {
      "image/png": "[encoded data removed]",
      "text/plain": [
       "<Figure size 1200x600 with 1 Axes>"
      ]
     },
     "metadata": {},
     "output_type": "display_data"
    }
   ],
   "source": [
    "reviews_by_state = reviewsGM['City'].value_counts()\n",
    "\n",
    "# Mostrar el ranking de cantidad de reviews por estado\n",
    "print(\"Ranking de cantidad de reviews por estado:\")\n",
    "print(reviews_by_state)\n",
    "\n",
    "# Gráfico de barras para el ranking\n",
    "plt.figure(figsize=(12, 6))\n",
    "reviews_by_state.plot(kind='bar', color='skyblue')\n",
    "plt.xlabel('Estado')\n",
    "plt.ylabel('Cantidad de Reseñas')\n",
    "plt.title('Ranking de Cantidad de Reviews por Estado')\n",
    "plt.show()"
   ]
  },
  {
   "cell_type": "markdown",
   "metadata": {},
   "source": [
    "Recordar que estos datos corresponden a muestras random del 1% de cada archivo original de cada estado.   \n",
    "Podemos ver de mayor a menor quienes manejan mas cantidad de reviews.   \n",
    "\n",
    "Esto lo consideramos con un enfoque de MERCADO, donde hay mas cantidad de reviews hay MAS MERCADO en movimiento.   \n",
    "Para la segunda etapa del proyecto estaremos analizando esto junto a avances en el tiempo y por categorias/atributos para entender hacia donde va el mercado."
   ]
  },
  {
   "cell_type": "markdown",
   "metadata": {},
   "source": [
    "### 2) Sitios"
   ]
  },
  {
   "cell_type": "markdown",
   "metadata": {},
   "source": [
    "Procesamos los archivos JSON de sitios de Google Maps, los unimos en 1 solo CSV:"
   ]
  },
  {
   "cell_type": "code",
   "execution_count": 57,
   "metadata": {},
   "outputs": [
    {
     "data": {
      "text/html": [
       "<div>\n",
       "<style scoped>\n",
       "    .dataframe tbody tr th:only-of-type {\n",
       "        vertical-align: middle;\n",
       "    }\n",
       "\n",
       "    .dataframe tbody tr th {\n",
       "        vertical-align: top;\n",
       "    }\n",
       "\n",
       "    .dataframe thead th {\n",
       "        text-align: right;\n",
       "    }\n",
       "</style>\n",
       "<table border=\"1\" class=\"dataframe\">\n",
       "  <thead>\n",
       "    <tr style=\"text-align: right;\">\n",
       "      <th></th>\n",
       "      <th>name</th>\n",
       "      <th>address</th>\n",
       "      <th>gmap_id</th>\n",
       "      <th>description</th>\n",
       "      <th>latitude</th>\n",
       "      <th>longitude</th>\n",
       "      <th>category</th>\n",
       "      <th>avg_rating</th>\n",
       "      <th>num_of_reviews</th>\n",
       "      <th>price</th>\n",
       "      <th>hours</th>\n",
       "      <th>MISC</th>\n",
       "      <th>state</th>\n",
       "      <th>relative_results</th>\n",
       "      <th>url</th>\n",
       "    </tr>\n",
       "  </thead>\n",
       "  <tbody>\n",
       "    <tr>\n",
       "      <th>0</th>\n",
       "      <td>Porter Pharmacy</td>\n",
       "      <td>Porter Pharmacy, 129 N Second St, Cochran, GA ...</td>\n",
       "      <td>0x88f16e41928ff687:0x883dad4fd048e8f8</td>\n",
       "      <td>None</td>\n",
       "      <td>32.388300</td>\n",
       "      <td>-83.357100</td>\n",
       "      <td>[Pharmacy]</td>\n",
       "      <td>4.9</td>\n",
       "      <td>16</td>\n",
       "      <td>None</td>\n",
       "      <td>[[Friday, 8AM–6PM], [Saturday, 8AM–12PM], [Sun...</td>\n",
       "      <td>{'Service options': ['In-store shopping', 'Sam...</td>\n",
       "      <td>Open ⋅ Closes 6PM</td>\n",
       "      <td>[0x88f16e41929435cf:0x5b2532a2885e9ef6, 0x88f1...</td>\n",
       "      <td>https://www.google.com/maps/place//data=!4m2!3...</td>\n",
       "    </tr>\n",
       "    <tr>\n",
       "      <th>1</th>\n",
       "      <td>City Textile</td>\n",
       "      <td>City Textile, 3001 E Pico Blvd, Los Angeles, C...</td>\n",
       "      <td>0x80c2c98c0e3c16fd:0x29ec8a728764fdf9</td>\n",
       "      <td>None</td>\n",
       "      <td>34.018891</td>\n",
       "      <td>-118.215290</td>\n",
       "      <td>[Textile exporter]</td>\n",
       "      <td>4.5</td>\n",
       "      <td>6</td>\n",
       "      <td>None</td>\n",
       "      <td>None</td>\n",
       "      <td>None</td>\n",
       "      <td>Open now</td>\n",
       "      <td>[0x80c2c624136ea88b:0xb0315367ed448771, 0x80c2...</td>\n",
       "      <td>https://www.google.com/maps/place//data=!4m2!3...</td>\n",
       "    </tr>\n",
       "    <tr>\n",
       "      <th>2</th>\n",
       "      <td>San Soo Dang</td>\n",
       "      <td>San Soo Dang, 761 S Vermont Ave, Los Angeles, ...</td>\n",
       "      <td>0x80c2c778e3b73d33:0xbdc58662a4a97d49</td>\n",
       "      <td>None</td>\n",
       "      <td>34.058092</td>\n",
       "      <td>-118.292130</td>\n",
       "      <td>[Korean restaurant]</td>\n",
       "      <td>4.4</td>\n",
       "      <td>18</td>\n",
       "      <td>None</td>\n",
       "      <td>[[Thursday, 6:30AM–6PM], [Friday, 6:30AM–6PM],...</td>\n",
       "      <td>{'Service options': ['Takeout', 'Dine-in', 'De...</td>\n",
       "      <td>Open ⋅ Closes 6PM</td>\n",
       "      <td>[0x80c2c78249aba68f:0x35bf16ce61be751d, 0x80c2...</td>\n",
       "      <td>https://www.google.com/maps/place//data=!4m2!3...</td>\n",
       "    </tr>\n",
       "    <tr>\n",
       "      <th>3</th>\n",
       "      <td>Nova Fabrics</td>\n",
       "      <td>Nova Fabrics, 2200 E 11th St, Los Angeles, CA ...</td>\n",
       "      <td>0x80c2c89923b27a41:0x32041559418d447</td>\n",
       "      <td>None</td>\n",
       "      <td>34.023669</td>\n",
       "      <td>-118.232930</td>\n",
       "      <td>[Fabric store]</td>\n",
       "      <td>3.3</td>\n",
       "      <td>6</td>\n",
       "      <td>None</td>\n",
       "      <td>[[Thursday, 9AM–5PM], [Friday, 9AM–5PM], [Satu...</td>\n",
       "      <td>{'Service options': ['In-store shopping'], 'Pa...</td>\n",
       "      <td>Open ⋅ Closes 5PM</td>\n",
       "      <td>[0x80c2c8811477253f:0x23a8a492df1918f7, 0x80c2...</td>\n",
       "      <td>https://www.google.com/maps/place//data=!4m2!3...</td>\n",
       "    </tr>\n",
       "    <tr>\n",
       "      <th>4</th>\n",
       "      <td>Nobel Textile Co</td>\n",
       "      <td>Nobel Textile Co, 719 E 9th St, Los Angeles, C...</td>\n",
       "      <td>0x80c2c632f933b073:0xc31785961fe826a6</td>\n",
       "      <td>None</td>\n",
       "      <td>34.036694</td>\n",
       "      <td>-118.249421</td>\n",
       "      <td>[Fabric store]</td>\n",
       "      <td>4.3</td>\n",
       "      <td>7</td>\n",
       "      <td>None</td>\n",
       "      <td>[[Thursday, 9AM–5PM], [Friday, 9AM–5PM], [Satu...</td>\n",
       "      <td>{'Service options': ['In-store pickup']}</td>\n",
       "      <td>Open ⋅ Closes 5PM</td>\n",
       "      <td>[0x80c2c62c496083d1:0xdefa11317fe870a1, 0x80c2...</td>\n",
       "      <td>https://www.google.com/maps/place//data=!4m2!3...</td>\n",
       "    </tr>\n",
       "  </tbody>\n",
       "</table>\n",
       "</div>"
      ],
      "text/plain": [
       "               name                                            address  \\\n",
       "0   Porter Pharmacy  Porter Pharmacy, 129 N Second St, Cochran, GA ...   \n",
       "1      City Textile  City Textile, 3001 E Pico Blvd, Los Angeles, C...   \n",
       "2      San Soo Dang  San Soo Dang, 761 S Vermont Ave, Los Angeles, ...   \n",
       "3      Nova Fabrics  Nova Fabrics, 2200 E 11th St, Los Angeles, CA ...   \n",
       "4  Nobel Textile Co  Nobel Textile Co, 719 E 9th St, Los Angeles, C...   \n",
       "\n",
       "                                 gmap_id description   latitude   longitude  \\\n",
       "0  0x88f16e41928ff687:0x883dad4fd048e8f8        None  32.388300  -83.357100   \n",
       "1  0x80c2c98c0e3c16fd:0x29ec8a728764fdf9        None  34.018891 -118.215290   \n",
       "2  0x80c2c778e3b73d33:0xbdc58662a4a97d49        None  34.058092 -118.292130   \n",
       "3   0x80c2c89923b27a41:0x32041559418d447        None  34.023669 -118.232930   \n",
       "4  0x80c2c632f933b073:0xc31785961fe826a6        None  34.036694 -118.249421   \n",
       "\n",
       "              category  avg_rating  num_of_reviews price  \\\n",
       "0           [Pharmacy]         4.9              16  None   \n",
       "1   [Textile exporter]         4.5               6  None   \n",
       "2  [Korean restaurant]         4.4              18  None   \n",
       "3       [Fabric store]         3.3               6  None   \n",
       "4       [Fabric store]         4.3               7  None   \n",
       "\n",
       "                                               hours  \\\n",
       "0  [[Friday, 8AM–6PM], [Saturday, 8AM–12PM], [Sun...   \n",
       "1                                               None   \n",
       "2  [[Thursday, 6:30AM–6PM], [Friday, 6:30AM–6PM],...   \n",
       "3  [[Thursday, 9AM–5PM], [Friday, 9AM–5PM], [Satu...   \n",
       "4  [[Thursday, 9AM–5PM], [Friday, 9AM–5PM], [Satu...   \n",
       "\n",
       "                                                MISC              state  \\\n",
       "0  {'Service options': ['In-store shopping', 'Sam...  Open ⋅ Closes 6PM   \n",
       "1                                               None           Open now   \n",
       "2  {'Service options': ['Takeout', 'Dine-in', 'De...  Open ⋅ Closes 6PM   \n",
       "3  {'Service options': ['In-store shopping'], 'Pa...  Open ⋅ Closes 5PM   \n",
       "4           {'Service options': ['In-store pickup']}  Open ⋅ Closes 5PM   \n",
       "\n",
       "                                    relative_results  \\\n",
       "0  [0x88f16e41929435cf:0x5b2532a2885e9ef6, 0x88f1...   \n",
       "1  [0x80c2c624136ea88b:0xb0315367ed448771, 0x80c2...   \n",
       "2  [0x80c2c78249aba68f:0x35bf16ce61be751d, 0x80c2...   \n",
       "3  [0x80c2c8811477253f:0x23a8a492df1918f7, 0x80c2...   \n",
       "4  [0x80c2c62c496083d1:0xdefa11317fe870a1, 0x80c2...   \n",
       "\n",
       "                                                 url  \n",
       "0  https://www.google.com/maps/place//data=!4m2!3...  \n",
       "1  https://www.google.com/maps/place//data=!4m2!3...  \n",
       "2  https://www.google.com/maps/place//data=!4m2!3...  \n",
       "3  https://www.google.com/maps/place//data=!4m2!3...  \n",
       "4  https://www.google.com/maps/place//data=!4m2!3...  "
      ]
     },
     "execution_count": 57,
     "metadata": {},
     "output_type": "execute_result"
    }
   ],
   "source": [
    "directory = 'GM/metadata-sitios/'\n",
    "dfs = []\n",
    "\n",
    "for i in range(1, 12):\n",
    "    filename = os.path.join(directory, f'{i}.json')\n",
    "    if os.path.exists(filename):\n",
    "        rows = []\n",
    "        with open(filename, 'r') as f:\n",
    "            for line in f.readlines():\n",
    "                data = json.loads(line)\n",
    "                rows.append(data)\n",
    "        df = pd.DataFrame(rows)\n",
    "        dfs.append(df)\n",
    "\n",
    "combined_df = pd.concat(dfs, ignore_index=True)\n",
    "\n",
    "# Mostrar el DataFrame combinado\n",
    "combined_df.head()"
   ]
  },
  {
   "cell_type": "code",
   "execution_count": 58,
   "metadata": {},
   "outputs": [
    {
     "name": "stdout",
     "output_type": "stream",
     "text": [
      "<class 'pandas.core.frame.DataFrame'>\n",
      "RangeIndex: 3025011 entries, 0 to 3025010\n",
      "Data columns (total 15 columns):\n",
      " #   Column            Dtype  \n",
      "---  ------            -----  \n",
      " 0   name              object \n",
      " 1   address           object \n",
      " 2   gmap_id           object \n",
      " 3   description       object \n",
      " 4   latitude          float64\n",
      " 5   longitude         float64\n",
      " 6   category          object \n",
      " 7   avg_rating        float64\n",
      " 8   num_of_reviews    int64  \n",
      " 9   price             object \n",
      " 10  hours             object \n",
      " 11  MISC              object \n",
      " 12  state             object \n",
      " 13  relative_results  object \n",
      " 14  url               object \n",
      "dtypes: float64(3), int64(1), object(11)\n",
      "memory usage: 346.2+ MB\n"
     ]
    }
   ],
   "source": [
    "combined_df.info()"
   ]
  },
  {
   "cell_type": "markdown",
   "metadata": {},
   "source": [
    "Guardamos el archivo:"
   ]
  },
  {
   "cell_type": "code",
   "execution_count": 59,
   "metadata": {},
   "outputs": [],
   "source": [
    "# combined_df.to_csv('GM/metadata-sitios/sitiosGM.csv', index=False)"
   ]
  },
  {
   "cell_type": "code",
   "execution_count": 61,
   "metadata": {},
   "outputs": [],
   "source": [
    "filtered_df = combined_df[combined_df['category'].apply(lambda categories: isinstance(categories, list) and any('restaurant' in category.lower() for category in categories))]\n"
   ]
  },
  {
   "cell_type": "code",
   "execution_count": 63,
   "metadata": {},
   "outputs": [
    {
     "name": "stdout",
     "output_type": "stream",
     "text": [
      "<class 'pandas.core.frame.DataFrame'>\n",
      "Index: 212014 entries, 2 to 3025006\n",
      "Data columns (total 15 columns):\n",
      " #   Column            Non-Null Count   Dtype  \n",
      "---  ------            --------------   -----  \n",
      " 0   name              212014 non-null  object \n",
      " 1   address           210956 non-null  object \n",
      " 2   gmap_id           212014 non-null  object \n",
      " 3   description       72392 non-null   object \n",
      " 4   latitude          212014 non-null  float64\n",
      " 5   longitude         212014 non-null  float64\n",
      " 6   category          212014 non-null  object \n",
      " 7   avg_rating        212014 non-null  float64\n",
      " 8   num_of_reviews    212014 non-null  int64  \n",
      " 9   price             100000 non-null  object \n",
      " 10  hours             189913 non-null  object \n",
      " 11  MISC              210599 non-null  object \n",
      " 12  state             190751 non-null  object \n",
      " 13  relative_results  170957 non-null  object \n",
      " 14  url               212014 non-null  object \n",
      "dtypes: float64(3), int64(1), object(11)\n",
      "memory usage: 25.9+ MB\n"
     ]
    }
   ],
   "source": [
    "filtered_df.info()"
   ]
  },
  {
   "cell_type": "markdown",
   "metadata": {},
   "source": [
    "De esta manera tenemos la base de datos de SITIOS de GOOGLE MAPS correspondiente a Restaurantes."
   ]
  },
  {
   "cell_type": "code",
   "execution_count": 64,
   "metadata": {},
   "outputs": [
    {
     "data": {
      "text/plain": [
       "210953"
      ]
     },
     "execution_count": 64,
     "metadata": {},
     "output_type": "execute_result"
    }
   ],
   "source": [
    "filtered_df['gmap_id'].nunique()"
   ]
  },
  {
   "cell_type": "markdown",
   "metadata": {},
   "source": [
    "Se observa que hay DUPLICADOS, eliminamos considerando el gmap id:"
   ]
  },
  {
   "cell_type": "code",
   "execution_count": 67,
   "metadata": {},
   "outputs": [
    {
     "name": "stderr",
     "output_type": "stream",
     "text": [
      "/var/folders/qg/wpm67q152tbghnk5zykvn90c0000gn/T/ipykernel_7887/3398317853.py:1: SettingWithCopyWarning: \n",
      "A value is trying to be set on a copy of a slice from a DataFrame\n",
      "\n",
      "See the caveats in the documentation: https://pandas.pydata.org/pandas-docs/stable/user_guide/indexing.html#returning-a-view-versus-a-copy\n",
      "  filtered_df.drop_duplicates(subset='gmap_id', keep='first', inplace=True)\n"
     ]
    }
   ],
   "source": [
    "filtered_df.drop_duplicates(subset='gmap_id', keep='first', inplace=True)"
   ]
  },
  {
   "cell_type": "code",
   "execution_count": 68,
   "metadata": {},
   "outputs": [
    {
     "name": "stdout",
     "output_type": "stream",
     "text": [
      "<class 'pandas.core.frame.DataFrame'>\n",
      "Index: 210953 entries, 2 to 3025006\n",
      "Data columns (total 15 columns):\n",
      " #   Column            Non-Null Count   Dtype  \n",
      "---  ------            --------------   -----  \n",
      " 0   name              210953 non-null  object \n",
      " 1   address           209900 non-null  object \n",
      " 2   gmap_id           210953 non-null  object \n",
      " 3   description       72174 non-null   object \n",
      " 4   latitude          210953 non-null  float64\n",
      " 5   longitude         210953 non-null  float64\n",
      " 6   category          210953 non-null  object \n",
      " 7   avg_rating        210953 non-null  float64\n",
      " 8   num_of_reviews    210953 non-null  int64  \n",
      " 9   price             99738 non-null   object \n",
      " 10  hours             189013 non-null  object \n",
      " 11  MISC              209549 non-null  object \n",
      " 12  state             189848 non-null  object \n",
      " 13  relative_results  170277 non-null  object \n",
      " 14  url               210953 non-null  object \n",
      "dtypes: float64(3), int64(1), object(11)\n",
      "memory usage: 25.8+ MB\n"
     ]
    }
   ],
   "source": [
    "filtered_df.info()\n"
   ]
  },
  {
   "cell_type": "code",
   "execution_count": 70,
   "metadata": {},
   "outputs": [
    {
     "data": {
      "text/html": [
       "<div>\n",
       "<style scoped>\n",
       "    .dataframe tbody tr th:only-of-type {\n",
       "        vertical-align: middle;\n",
       "    }\n",
       "\n",
       "    .dataframe tbody tr th {\n",
       "        vertical-align: top;\n",
       "    }\n",
       "\n",
       "    .dataframe thead th {\n",
       "        text-align: right;\n",
       "    }\n",
       "</style>\n",
       "<table border=\"1\" class=\"dataframe\">\n",
       "  <thead>\n",
       "    <tr style=\"text-align: right;\">\n",
       "      <th></th>\n",
       "      <th>name</th>\n",
       "      <th>address</th>\n",
       "      <th>gmap_id</th>\n",
       "      <th>description</th>\n",
       "      <th>latitude</th>\n",
       "      <th>longitude</th>\n",
       "      <th>category</th>\n",
       "      <th>avg_rating</th>\n",
       "      <th>num_of_reviews</th>\n",
       "      <th>price</th>\n",
       "      <th>hours</th>\n",
       "      <th>MISC</th>\n",
       "      <th>state</th>\n",
       "      <th>relative_results</th>\n",
       "      <th>url</th>\n",
       "    </tr>\n",
       "  </thead>\n",
       "  <tbody>\n",
       "    <tr>\n",
       "      <th>2</th>\n",
       "      <td>San Soo Dang</td>\n",
       "      <td>San Soo Dang, 761 S Vermont Ave, Los Angeles, ...</td>\n",
       "      <td>0x80c2c778e3b73d33:0xbdc58662a4a97d49</td>\n",
       "      <td>None</td>\n",
       "      <td>34.058092</td>\n",
       "      <td>-118.292130</td>\n",
       "      <td>[Korean restaurant]</td>\n",
       "      <td>4.4</td>\n",
       "      <td>18</td>\n",
       "      <td>None</td>\n",
       "      <td>[[Thursday, 6:30AM–6PM], [Friday, 6:30AM–6PM],...</td>\n",
       "      <td>{'Service options': ['Takeout', 'Dine-in', 'De...</td>\n",
       "      <td>Open ⋅ Closes 6PM</td>\n",
       "      <td>[0x80c2c78249aba68f:0x35bf16ce61be751d, 0x80c2...</td>\n",
       "      <td>https://www.google.com/maps/place//data=!4m2!3...</td>\n",
       "    </tr>\n",
       "    <tr>\n",
       "      <th>6</th>\n",
       "      <td>Vons Chicken</td>\n",
       "      <td>Vons Chicken, 12740 La Mirada Blvd, La Mirada,...</td>\n",
       "      <td>0x80dd2b4c8555edb7:0xfc33d65c4bdbef42</td>\n",
       "      <td>None</td>\n",
       "      <td>33.916402</td>\n",
       "      <td>-118.010855</td>\n",
       "      <td>[Restaurant]</td>\n",
       "      <td>4.5</td>\n",
       "      <td>18</td>\n",
       "      <td>None</td>\n",
       "      <td>[[Thursday, 11AM–9:30PM], [Friday, 11AM–9:30PM...</td>\n",
       "      <td>{'Service options': ['Outdoor seating', 'Curbs...</td>\n",
       "      <td>Open ⋅ Closes 9:30PM</td>\n",
       "      <td>None</td>\n",
       "      <td>https://www.google.com/maps/place//data=!4m2!3...</td>\n",
       "    </tr>\n",
       "    <tr>\n",
       "      <th>8</th>\n",
       "      <td>Sweet Rewards Gluten Free Bakery, LLC</td>\n",
       "      <td>Sweet Rewards Gluten Free Bakery, LLC, 85 NE D...</td>\n",
       "      <td>0x87ec235c54d25b31:0x3b75fb5facc602f</td>\n",
       "      <td>None</td>\n",
       "      <td>41.616079</td>\n",
       "      <td>-93.865487</td>\n",
       "      <td>[Bakery, Health food restaurant]</td>\n",
       "      <td>4.7</td>\n",
       "      <td>21</td>\n",
       "      <td>None</td>\n",
       "      <td>[[Thursday, 10AM–5:30PM], [Friday, 10AM–5:30PM...</td>\n",
       "      <td>{'Service options': ['Delivery']}</td>\n",
       "      <td>Permanently closed</td>\n",
       "      <td>[0x87ee974869295555:0x95f310d065882c9b, 0x87ec...</td>\n",
       "      <td>https://www.google.com/maps/place//data=!4m2!3...</td>\n",
       "    </tr>\n",
       "    <tr>\n",
       "      <th>68</th>\n",
       "      <td>Vivi Bubble Tea</td>\n",
       "      <td>Vivi Bubble Tea, 701 S 5th St, Philadelphia, P...</td>\n",
       "      <td>0x89c6c89efcaed69d:0xded973f6033e7dba</td>\n",
       "      <td>Bubble tea shop offering hot &amp; cold versions, ...</td>\n",
       "      <td>39.940293</td>\n",
       "      <td>-75.150923</td>\n",
       "      <td>[Restaurant]</td>\n",
       "      <td>4.0</td>\n",
       "      <td>8</td>\n",
       "      <td>None</td>\n",
       "      <td>None</td>\n",
       "      <td>{'Service options': ['Delivery'], 'Amenities':...</td>\n",
       "      <td>None</td>\n",
       "      <td>[0x89c6c62a40f4b733:0x73bfeec1898f272b, 0x89c6...</td>\n",
       "      <td>https://www.google.com/maps/place//data=!4m2!3...</td>\n",
       "    </tr>\n",
       "    <tr>\n",
       "      <th>96</th>\n",
       "      <td>Hale Pops</td>\n",
       "      <td>Hale Pops, 55-370 Kamehameha Hwy, Laie, HI 96762</td>\n",
       "      <td>0x7c00456eecad3111:0x8217f9600c51f33</td>\n",
       "      <td>None</td>\n",
       "      <td>21.637796</td>\n",
       "      <td>-157.920714</td>\n",
       "      <td>[Restaurant]</td>\n",
       "      <td>4.4</td>\n",
       "      <td>18</td>\n",
       "      <td>None</td>\n",
       "      <td>[[Thursday, 11AM–8PM], [Friday, 11AM–8PM], [Sa...</td>\n",
       "      <td>{'Service options': ['Outdoor seating', 'Takeo...</td>\n",
       "      <td>Closed ⋅ Opens 11AM</td>\n",
       "      <td>[0x7c00451360f80cf1:0x930291a38bab3132, 0x7c00...</td>\n",
       "      <td>https://www.google.com/maps/place//data=!4m2!3...</td>\n",
       "    </tr>\n",
       "  </tbody>\n",
       "</table>\n",
       "</div>"
      ],
      "text/plain": [
       "                                     name  \\\n",
       "2                            San Soo Dang   \n",
       "6                            Vons Chicken   \n",
       "8   Sweet Rewards Gluten Free Bakery, LLC   \n",
       "68                        Vivi Bubble Tea   \n",
       "96                              Hale Pops   \n",
       "\n",
       "                                              address  \\\n",
       "2   San Soo Dang, 761 S Vermont Ave, Los Angeles, ...   \n",
       "6   Vons Chicken, 12740 La Mirada Blvd, La Mirada,...   \n",
       "8   Sweet Rewards Gluten Free Bakery, LLC, 85 NE D...   \n",
       "68  Vivi Bubble Tea, 701 S 5th St, Philadelphia, P...   \n",
       "96   Hale Pops, 55-370 Kamehameha Hwy, Laie, HI 96762   \n",
       "\n",
       "                                  gmap_id  \\\n",
       "2   0x80c2c778e3b73d33:0xbdc58662a4a97d49   \n",
       "6   0x80dd2b4c8555edb7:0xfc33d65c4bdbef42   \n",
       "8    0x87ec235c54d25b31:0x3b75fb5facc602f   \n",
       "68  0x89c6c89efcaed69d:0xded973f6033e7dba   \n",
       "96   0x7c00456eecad3111:0x8217f9600c51f33   \n",
       "\n",
       "                                          description   latitude   longitude  \\\n",
       "2                                                None  34.058092 -118.292130   \n",
       "6                                                None  33.916402 -118.010855   \n",
       "8                                                None  41.616079  -93.865487   \n",
       "68  Bubble tea shop offering hot & cold versions, ...  39.940293  -75.150923   \n",
       "96                                               None  21.637796 -157.920714   \n",
       "\n",
       "                            category  avg_rating  num_of_reviews price  \\\n",
       "2                [Korean restaurant]         4.4              18  None   \n",
       "6                       [Restaurant]         4.5              18  None   \n",
       "8   [Bakery, Health food restaurant]         4.7              21  None   \n",
       "68                      [Restaurant]         4.0               8  None   \n",
       "96                      [Restaurant]         4.4              18  None   \n",
       "\n",
       "                                                hours  \\\n",
       "2   [[Thursday, 6:30AM–6PM], [Friday, 6:30AM–6PM],...   \n",
       "6   [[Thursday, 11AM–9:30PM], [Friday, 11AM–9:30PM...   \n",
       "8   [[Thursday, 10AM–5:30PM], [Friday, 10AM–5:30PM...   \n",
       "68                                               None   \n",
       "96  [[Thursday, 11AM–8PM], [Friday, 11AM–8PM], [Sa...   \n",
       "\n",
       "                                                 MISC                 state  \\\n",
       "2   {'Service options': ['Takeout', 'Dine-in', 'De...     Open ⋅ Closes 6PM   \n",
       "6   {'Service options': ['Outdoor seating', 'Curbs...  Open ⋅ Closes 9:30PM   \n",
       "8                   {'Service options': ['Delivery']}    Permanently closed   \n",
       "68  {'Service options': ['Delivery'], 'Amenities':...                  None   \n",
       "96  {'Service options': ['Outdoor seating', 'Takeo...   Closed ⋅ Opens 11AM   \n",
       "\n",
       "                                     relative_results  \\\n",
       "2   [0x80c2c78249aba68f:0x35bf16ce61be751d, 0x80c2...   \n",
       "6                                                None   \n",
       "8   [0x87ee974869295555:0x95f310d065882c9b, 0x87ec...   \n",
       "68  [0x89c6c62a40f4b733:0x73bfeec1898f272b, 0x89c6...   \n",
       "96  [0x7c00451360f80cf1:0x930291a38bab3132, 0x7c00...   \n",
       "\n",
       "                                                  url  \n",
       "2   https://www.google.com/maps/place//data=!4m2!3...  \n",
       "6   https://www.google.com/maps/place//data=!4m2!3...  \n",
       "8   https://www.google.com/maps/place//data=!4m2!3...  \n",
       "68  https://www.google.com/maps/place//data=!4m2!3...  \n",
       "96  https://www.google.com/maps/place//data=!4m2!3...  "
      ]
     },
     "execution_count": 70,
     "metadata": {},
     "output_type": "execute_result"
    }
   ],
   "source": [
    "filtered_df.head()"
   ]
  },
  {
   "cell_type": "code",
   "execution_count": 72,
   "metadata": {},
   "outputs": [
    {
     "data": {
      "image/png": "[encoded data removed]",
      "text/plain": [
       "<Figure size 640x480 with 1 Axes>"
      ]
     },
     "metadata": {},
     "output_type": "display_data"
    }
   ],
   "source": [
    "ratings_intervals = pd.cut(filtered_df['avg_rating'], bins=[0, 1, 2, 3, 4, 5], include_lowest=True)\n",
    "ratings_distribution = ratings_intervals.value_counts(sort=False)\n",
    "\n",
    "# Graficar la distribución de ratings\n",
    "plt.bar(ratings_distribution.index.astype(str), ratings_distribution.values)\n",
    "plt.xlabel('Intervalos de ratings')\n",
    "plt.ylabel('Cantidad de Sitios')\n",
    "plt.title('Distribución de ratings')\n",
    "plt.show()"
   ]
  },
  {
   "cell_type": "markdown",
   "metadata": {},
   "source": [
    "Nuevamente observamos que predominan los ratings de mayor puntaje."
   ]
  },
  {
   "cell_type": "markdown",
   "metadata": {},
   "source": [
    "Para la proxima etapa del proyecto, tal como indicamos en la seccion de indicadores KPI y objetivos, analizaremos el comportamiento de estos sitios considerando otras caracteristicas de las demas tablas. "
   ]
  },
  {
   "cell_type": "code",
   "execution_count": null,
   "metadata": {},
   "outputs": [],
   "source": []
  }
 ],
 "metadata": {
  "kernelspec": {
   "display_name": "base",
   "language": "python",
   "name": "python3"
  },
  "language_info": {
   "codemirror_mode": {
    "name": "ipython",
    "version": 3
   },
   "file_extension": ".py",
   "mimetype": "text/x-python",
   "name": "python",
   "nbconvert_exporter": "python",
   "pygments_lexer": "ipython3",
   "version": "3.10.9"
  }
 },
 "nbformat": 4,
 "nbformat_minor": 2
}
