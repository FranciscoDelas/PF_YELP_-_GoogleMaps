{
  "cells": [
    {
      "cell_type": "code",
      "execution_count": null,
      "metadata": {
        "cellView": "form",
        "id": "w6MmeBUBJ-9E"
      },
      "outputs": [],
      "source": [
        "# @title Setup\n",
        "from google.colab import auth\n",
        "from google.cloud import bigquery\n",
        "from google.colab import data_table\n",
        "\n",
        "project = 'pf-henry-405314' # Project ID inserted based on the query results selected to explore\n",
        "location = 'US' # Location inserted based on the query results selected to explore\n",
        "client = bigquery.Client(project=project, location=location)\n",
        "data_table.enable_dataframe_formatter()\n",
        "auth.authenticate_user()"
      ]
    },
    {
      "cell_type": "markdown",
      "metadata": {
        "id": "uHx9axvMkyQc"
      },
      "source": [
        "# Librerias"
      ]
    },
    {
      "cell_type": "code",
      "execution_count": null,
      "metadata": {
        "id": "GjFC8gOakU7y"
      },
      "outputs": [],
      "source": [
        "import pandas as pd\n",
        "\n",
        "import datetime\n",
        "\n",
        "from google.cloud import storage\n",
        "from google.cloud import bigquery\n",
        "import pandas\n",
        "import pytz\n",
        "\n",
        "from google.colab import drive\n",
        "from google.colab import auth\n",
        "\n",
        "from pandas import json_normalize\n",
        "\n",
        "from textblob import TextBlob\n"
      ]
    },
    {
      "cell_type": "markdown",
      "metadata": {
        "id": "eOiC8TEwGlAc"
      },
      "source": [
        "# carga de archivos .json desde drive a storage"
      ]
    },
    {
      "cell_type": "code",
      "execution_count": null,
      "metadata": {
        "id": "YCfTe94IKUhL"
      },
      "outputs": [],
      "source": [
        "from google.cloud import storage\n",
        "import os\n",
        "from google.colab import drive"
      ]
    },
    {
      "cell_type": "code",
      "execution_count": null,
      "metadata": {
        "colab": {
          "base_uri": "https://localhost:8080/"
        },
        "id": "SS3vcH4TYpfx",
        "outputId": "bc87515d-5a95-4de3-ecb2-e6312d766be7"
      },
      "outputs": [
        {
          "name": "stdout",
          "output_type": "stream",
          "text": [
            "Drive already mounted at /content/drive; to attempt to forcibly remount, call drive.mount(\"/content/drive\", force_remount=True).\n"
          ]
        }
      ],
      "source": [
        "drive.mount('/content/drive')\n",
        "\n",
        "storage_client = storage.Client()\n",
        "\n",
        "folderpath = '/content/drive/My Drive/Google Maps/reviews-estados/review-Texas/'\n",
        "\n",
        "bucket_name = 'texas_pf'\n",
        "destination_folder_name = 'texas'\n",
        "\n",
        "def upload_blob(bucket_name, source_file_name, destination_blob_name):\n",
        "   storage_client = storage.Client()\n",
        "   bucket = storage_client.bucket(bucket_name)\n",
        "   blob = bucket.blob(destination_blob_name)\n",
        "\n",
        "   # cheque si el archivo ya existe\n",
        "   if not blob.exists():\n",
        "       blob.upload_from_filename(source_file_name)\n",
        "       print(f\"Archivo {source_file_name} cargado en {destination_blob_name}.\")\n",
        "   else:\n",
        "       print(f\"el archivo {source_file_name} ya existe en el bucket.\")\n",
        "\n",
        "bucket = storage_client.bucket(bucket_name)\n",
        "\n",
        "for entry in os.scandir(folderpath):\n",
        "   if entry.is_file():\n",
        "       file_path = entry.path\n",
        "       destination_blob_name = destination_folder_name + entry.name\n",
        "       blob = bucket.blob(destination_blob_name)\n",
        "       blob.upload_from_filename(file_path)"
      ]
    }
  ],
  "metadata": {
    "colab": {
      "cell_execution_strategy": "setup",
      "provenance": []
    },
    "kernelspec": {
      "display_name": "Python 3",
      "name": "python3"
    },
    "language_info": {
      "name": "python"
    }
  },
  "nbformat": 4,
  "nbformat_minor": 0
}
