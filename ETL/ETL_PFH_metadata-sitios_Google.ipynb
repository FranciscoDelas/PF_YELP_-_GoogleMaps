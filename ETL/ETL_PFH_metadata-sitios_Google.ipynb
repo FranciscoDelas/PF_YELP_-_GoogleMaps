{
  "cells": [
    {
      "cell_type": "code",
      "execution_count": null,
      "metadata": {
        "cellView": "form",
        "id": "w6MmeBUBJ-9E"
      },
      "outputs": [],
      "source": [
        "# @title Setup\n",
        "from google.colab import auth\n",
        "from google.cloud import bigquery\n",
        "from google.colab import data_table\n",
        "\n",
        "project = 'pf-henry-405314' # Project ID inserted based on the query results selected to explore\n",
        "location = 'US' # Location inserted based on the query results selected to explore\n",
        "client = bigquery.Client(project=project, location=location)\n",
        "data_table.enable_dataframe_formatter()\n",
        "auth.authenticate_user()"
      ]
    },
    {
      "cell_type": "markdown",
      "metadata": {
        "id": "uHx9axvMkyQc"
      },
      "source": [
        "# Librerias"
      ]
    },
    {
      "cell_type": "code",
      "execution_count": null,
      "metadata": {
        "id": "GjFC8gOakU7y"
      },
      "outputs": [],
      "source": [
        "import pandas as pd\n",
        "\n",
        "import datetime\n",
        "\n",
        "from google.cloud import storage\n",
        "from google.cloud import bigquery\n",
        "import pandas\n",
        "import pytz\n",
        "\n",
        "from google.colab import drive\n",
        "from google.colab import auth\n",
        "\n",
        "from pandas import json_normalize\n",
        "\n",
        "from textblob import TextBlob\n"
      ]
    },
    {
      "cell_type": "markdown",
      "metadata": {
        "id": "BU4tF05H_aqE"
      },
      "source": [
        "# Archivo de metadatas de sitios de Google maps"
      ]
    },
    {
      "cell_type": "code",
      "execution_count": null,
      "metadata": {
        "colab": {
          "base_uri": "https://localhost:8080/"
        },
        "id": "q3a6ubfrYYK7",
        "outputId": "eb2ab1ff-fde2-47fd-dd70-7eb601d83099"
      },
      "outputs": [
        {
          "name": "stdout",
          "output_type": "stream",
          "text": [
            "Drive already mounted at /content/drive; to attempt to forcibly remount, call drive.mount(\"/content/drive\", force_remount=True).\n"
          ]
        }
      ],
      "source": [
        "# se extrae arcivos .json de drive para crear una unica tabla de metadatos de sitios\n",
        "\n",
        "def clean_category_column(df):\n",
        "    df['category'] = df['category'].astype(str)\n",
        "    df['category'] = df['category'].str.replace('[', '', regex=True).str.replace(']', '', regex=True)\n",
        "\n",
        "# Montar el drive\n",
        "drive.mount('/content/drive')\n",
        "\n",
        "# Acceder a la carpeta compartida\n",
        "folder_path = \"/content/drive/My Drive/Google Maps/metadata-sitios/\"\n",
        "\n",
        "# Crear un diccionario para almacenar los dataframes\n",
        "dataframes = []\n",
        "\n",
        "# Leer y limpiar cada archivo .json\n",
        "for i in range(1, 12):  #rango según la cantidad de archivos .json\n",
        "    filename = str(i) + '.json'\n",
        "    file_path = folder_path + filename\n",
        "    data = pd.read_json(file_path, lines=True)\n",
        "    data.drop(columns=['description','price','state','relative_results','url','hours'], inplace=True)\n",
        "    clean_category_column(data)\n",
        "    dataframes.append(data)\n",
        "\n",
        "# Concatenar los dataframes en uno solo\n",
        "result1 = pd.concat(dataframes, ignore_index=True)\n",
        "\n",
        "result2 = pd.json_normalize(result1['MISC']).set_index(result1['MISC'].index)\n",
        "\n",
        "result3 = pd.concat([result1, result2], axis=1)"
      ]
    },
    {
      "cell_type": "code",
      "execution_count": null,
      "metadata": {
        "id": "-zwM-rn-fY6x"
      },
      "outputs": [],
      "source": [
        "result3.drop('MISC', axis=1, inplace=True)\n",
        "result3 = result3[result3['category'].str.contains('restaurants|restaurante|restaurant|food|takeaway|Lunch|Deli', case=False, na=False)]\n",
        "result3 = result3.drop(columns=['Recycling','Getting here','Activities','Lodging options'])\n",
        "result3.fillna('No', inplace=True)"
      ]
    },
    {
      "cell_type": "code",
      "execution_count": null,
      "metadata": {
        "id": "YadPfE00ehqw"
      },
      "outputs": [],
      "source": [
        "# se dividen la tabla principal en 2, una de sitios y otra de atributos\n",
        "\n",
        "sitios = result3[['name', 'address', 'gmap_id', 'latitude', 'longitude', 'category', 'avg_rating', 'num_of_reviews']]"
      ]
    },
    {
      "cell_type": "code",
      "execution_count": null,
      "metadata": {
        "id": "Y7eZkHDWX1OQ"
      },
      "outputs": [],
      "source": [
        "# se dividen la tabla principal en 2, una de sitios y otra de atributos\n",
        "\n",
        "atributos = result3[['gmap_id', 'Service options','Accessibility', 'Offerings', 'Amenities', 'Atmosphere', 'Popular for', 'Dining options', 'Crowd']]"
      ]
    },
    {
      "cell_type": "code",
      "execution_count": null,
      "metadata": {
        "id": "EcLpuIcMjRvj"
      },
      "outputs": [],
      "source": [
        "atributos = atributos.join(atributos['Service options'].apply(pd.Series).add_prefix('Service'))\n",
        "atributos = atributos.join(atributos['Accessibility'].apply(pd.Series).add_prefix('Accessibility'))\n",
        "atributos = atributos.join(atributos['Offerings'].apply(pd.Series).add_prefix('Offerings'))\n",
        "\n",
        "\n",
        "atributos.drop(columns=['Service options','Accessibility','Offerings'], inplace=True)\n",
        "\n",
        "atributos.drop(columns=['Service3', 'Service4', 'Service5', 'Service6', 'Service7', 'Service8','Accessibility1',\n",
        "       'Accessibility2', 'Accessibility3', 'Accessibility4', 'Accessibility5','Offerings3', 'Offerings4',\n",
        "       'Offerings5', 'Offerings6', 'Offerings7', 'Offerings8', 'Offerings9', 'Offerings10', 'Offerings11', 'Offerings12', 'Offerings13',\n",
        "       'Offerings14', 'Offerings15', 'Offerings16', 'Offerings17', 'Offerings18'], inplace=True)"
      ]
    },
    {
      "cell_type": "code",
      "execution_count": null,
      "metadata": {
        "id": "fNUGbko8dgjO"
      },
      "outputs": [],
      "source": [
        "atributos = atributos.join(atributos['Amenities'].apply(pd.Series).add_prefix('Amenities'))\n",
        "atributos = atributos.join(atributos['Atmosphere'].apply(pd.Series).add_prefix('Atmosphere'))\n",
        "atributos = atributos.join(atributos['Crowd'].apply(pd.Series).add_prefix('Crowd'))\n",
        "\n",
        "atributos.drop(columns=['Amenities','Atmosphere','Crowd'], inplace=True)\n",
        "\n",
        "atributos.drop(columns=['Amenities1', 'Amenities2', 'Amenities3','Amenities4', 'Amenities5', 'Atmosphere1', 'Atmosphere2', 'Atmosphere3', 'Atmosphere4', 'Atmosphere5','Crowd1', 'Crowd2', 'Crowd3', 'Crowd4'], inplace=True)\n",
        "atributos.fillna('No', inplace=True)"
      ]
    },
    {
      "cell_type": "code",
      "execution_count": null,
      "metadata": {
        "id": "kndDKIsFjPRQ"
      },
      "outputs": [],
      "source": [
        "sitios.reset_index(drop=True, inplace=True)"
      ]
    },
    {
      "cell_type": "code",
      "execution_count": null,
      "metadata": {
        "colab": {
          "base_uri": "https://localhost:8080/"
        },
        "id": "JCW1Fr7Rg8ig",
        "outputId": "728c113b-b60f-41ec-889e-16a6b4689769"
      },
      "outputs": [
        {
          "name": "stdout",
          "output_type": "stream",
          "text": [
            "Authenticated\n",
            "Cargadas 240940 filas y 8 columnas a pf-henry-405314.Unificados.sitios\n"
          ]
        }
      ],
      "source": [
        "# se carga el la tabla sitios a bigquery\n",
        "\n",
        "auth.authenticate_user()\n",
        "print('Authenticated')\n",
        "\n",
        "# Especificar el proyecto y el dataset de BigQuery\n",
        "project_id = 'pf-henry-405314'\n",
        "\n",
        "# Crear un cliente de BigQuery\n",
        "client = bigquery.Client(project=project_id)\n",
        "\n",
        "table_id = 'pf-henry-405314.Unificados.sitios'\n",
        "\n",
        "# Cargar el DataFrame a BigQuery\n",
        "job_config =  bigquery.LoadJobConfig( schema =  [\n",
        "                bigquery.SchemaField('name',\tbigquery.enums.SqlTypeNames.STRING),\n",
        "                bigquery.SchemaField('address',\tbigquery.enums.SqlTypeNames.STRING),\n",
        "                bigquery.SchemaField('gmap_id',\tbigquery.enums.SqlTypeNames.STRING),\n",
        "                bigquery.SchemaField('latitude',\tbigquery.enums.SqlTypeNames.FLOAT),\n",
        "                bigquery.SchemaField('longitude',\tbigquery.enums.SqlTypeNames.FLOAT),\n",
        "                bigquery.SchemaField('category',\tbigquery.enums.SqlTypeNames.STRING),\n",
        "                bigquery.SchemaField('avg_rating',\tbigquery.enums.SqlTypeNames.FLOAT),\n",
        "                bigquery.SchemaField('num_of_reviews',\tbigquery.enums.SqlTypeNames.INTEGER),\n",
        "                ],\n",
        "                write_disposition=\"WRITE_TRUNCATE\",)\n",
        "\n",
        "\n",
        "job = client.load_table_from_dataframe(sitios, table_id, job_config=job_config)  # llamada a la API\n",
        "\n",
        "job.result()  # Espera mientras se ejecuta el trabajo\n",
        "\n",
        "table = client.get_table(table_id)  # llamada a la API\n",
        "\n",
        "print(\"Cargadas {} filas y {} columnas a {}\".format(table.num_rows, len(table.schema), table_id))"
      ]
    },
    {
      "cell_type": "code",
      "execution_count": null,
      "metadata": {
        "id": "rzvHGwV6P8Va"
      },
      "outputs": [],
      "source": [
        "atributos.drop(columns=['Popular for', 'Dining options'], inplace=True)\n",
        "atributos.reset_index(drop=True, inplace=True)"
      ]
    },
    {
      "cell_type": "code",
      "execution_count": null,
      "metadata": {
        "colab": {
          "base_uri": "https://localhost:8080/"
        },
        "id": "QVl0uV6f4FTI",
        "outputId": "21b25677-7fec-4be0-b041-ef2700db5f04"
      },
      "outputs": [
        {
          "name": "stdout",
          "output_type": "stream",
          "text": [
            "Authenticated\n",
            "Cargadas 240940 filas y 11 columnas a Unificados.atributos\n"
          ]
        }
      ],
      "source": [
        "# se carga el la tabla atributos a bigquery\n",
        "\n",
        "auth.authenticate_user()\n",
        "print('Authenticated')\n",
        "\n",
        "# Especificar el proyecto y el dataset de BigQuery\n",
        "project_id = 'pf-henry-405314'\n",
        "\n",
        "# Crear un cliente de BigQuery\n",
        "client = bigquery.Client(project=project_id)\n",
        "\n",
        "table_id = 'Unificados.atributos'\n",
        "\n",
        "# Cargar el DataFrame a BigQuery\n",
        "job_config =  bigquery.LoadJobConfig( schema =  [\n",
        "                bigquery.SchemaField('gmap_id',\tbigquery.enums.SqlTypeNames.STRING),\n",
        "                bigquery.SchemaField('Service0',\tbigquery.enums.SqlTypeNames.STRING),\n",
        "                bigquery.SchemaField('Service1',\tbigquery.enums.SqlTypeNames.STRING),\n",
        "                bigquery.SchemaField('Service2',\tbigquery.enums.SqlTypeNames.STRING),\n",
        "                bigquery.SchemaField('Accessibility0',\tbigquery.enums.SqlTypeNames.STRING),\n",
        "                bigquery.SchemaField('Offerings0',\tbigquery.enums.SqlTypeNames.STRING),\n",
        "                bigquery.SchemaField('Offerings1',\tbigquery.enums.SqlTypeNames.STRING),\n",
        "                bigquery.SchemaField('Offerings2',\tbigquery.enums.SqlTypeNames.STRING),\n",
        "                bigquery.SchemaField('Amenities0',\tbigquery.enums.SqlTypeNames.STRING),\n",
        "                bigquery.SchemaField('Atmosphere0',\tbigquery.enums.SqlTypeNames.STRING),\n",
        "                bigquery.SchemaField('Crowd0',\tbigquery.enums.SqlTypeNames.STRING),\n",
        "                ],\n",
        "                write_disposition=\"WRITE_TRUNCATE\",)\n",
        "\n",
        "\n",
        "job = client.load_table_from_dataframe(atributos, table_id, job_config=job_config)  # llamada a la API\n",
        "\n",
        "job.result()  # Espera mientras se ejecuta el trabajo\n",
        "\n",
        "table = client.get_table(table_id)  # llamada a la API\n",
        "\n",
        "print(\"Cargadas {} filas y {} columnas a {}\".format(table.num_rows, len(table.schema), table_id))\n",
        "\n"
      ]
    },
    {
      "cell_type": "code",
      "execution_count": null,
      "metadata": {
        "id": "x770MsArTD1z"
      },
      "outputs": [],
      "source": [
        "df = sitios.merge(atributos, on='gmap_id')\n",
        "df.drop_duplicates(inplace=True)"
      ]
    },
    {
      "cell_type": "code",
      "execution_count": null,
      "metadata": {
        "colab": {
          "base_uri": "https://localhost:8080/"
        },
        "id": "n1Yid51bUqrL",
        "outputId": "2ee281d1-ece1-4c25-af22-6b65cb133f0e"
      },
      "outputs": [
        {
          "name": "stdout",
          "output_type": "stream",
          "text": [
            "Authenticated\n",
            "Cargadas 239674 filas y 18 columnas a Unificados.sitios-atributos\n"
          ]
        }
      ],
      "source": [
        "# se carga el la tabla sitios-atributos a bigquery\n",
        "\n",
        "auth.authenticate_user()\n",
        "print('Authenticated')\n",
        "\n",
        "# Especificar el proyecto y el dataset de BigQuery\n",
        "project_id = 'pf-henry-405314'\n",
        "\n",
        "# Crear un cliente de BigQuery\n",
        "client = bigquery.Client(project=project_id)\n",
        "\n",
        "table_id = 'Unificados.sitios-atributos'\n",
        "\n",
        "# Cargar el DataFrame a BigQuery\n",
        "job_config =  bigquery.LoadJobConfig( schema =  [\n",
        "                bigquery.SchemaField('name',\tbigquery.enums.SqlTypeNames.STRING),\n",
        "                bigquery.SchemaField('address',\tbigquery.enums.SqlTypeNames.STRING),\n",
        "                bigquery.SchemaField('gmap_id',\tbigquery.enums.SqlTypeNames.STRING),\n",
        "                bigquery.SchemaField('latitude',\tbigquery.enums.SqlTypeNames.FLOAT),\n",
        "                bigquery.SchemaField('longitude',\tbigquery.enums.SqlTypeNames.FLOAT),\n",
        "                bigquery.SchemaField('category',\tbigquery.enums.SqlTypeNames.STRING),\n",
        "                bigquery.SchemaField('avg_rating',\tbigquery.enums.SqlTypeNames.FLOAT),\n",
        "                bigquery.SchemaField('num_of_reviews',\tbigquery.enums.SqlTypeNames.INTEGER),\n",
        "                bigquery.SchemaField('Service0',\tbigquery.enums.SqlTypeNames.STRING),\n",
        "                bigquery.SchemaField('Service1',\tbigquery.enums.SqlTypeNames.STRING),\n",
        "                bigquery.SchemaField('Service2',\tbigquery.enums.SqlTypeNames.STRING),\n",
        "                bigquery.SchemaField('Accessibility0',\tbigquery.enums.SqlTypeNames.STRING),\n",
        "                bigquery.SchemaField('Offerings0',\tbigquery.enums.SqlTypeNames.STRING),\n",
        "                bigquery.SchemaField('Offerings1',\tbigquery.enums.SqlTypeNames.STRING),\n",
        "                bigquery.SchemaField('Offerings2',\tbigquery.enums.SqlTypeNames.STRING),\n",
        "                bigquery.SchemaField('Amenities0',\tbigquery.enums.SqlTypeNames.STRING),\n",
        "                bigquery.SchemaField('Atmosphere0',\tbigquery.enums.SqlTypeNames.STRING),\n",
        "                bigquery.SchemaField('Crowd0',\tbigquery.enums.SqlTypeNames.STRING),\n",
        "                ],\n",
        "                write_disposition=\"WRITE_TRUNCATE\",)\n",
        "\n",
        "\n",
        "job = client.load_table_from_dataframe(df, table_id, job_config=job_config)  # llamada a la API\n",
        "\n",
        "job.result()  # Espera mientras se ejecuta el trabajo\n",
        "\n",
        "table = client.get_table(table_id)  # llamada a la API\n",
        "\n",
        "print(\"Cargadas {} filas y {} columnas a {}\".format(table.num_rows, len(table.schema), table_id))\n",
        "\n"
      ]
    }
  ],
  "metadata": {
    "colab": {
      "cell_execution_strategy": "setup",
      "provenance": []
    },
    "kernelspec": {
      "display_name": "Python 3",
      "name": "python3"
    },
    "language_info": {
      "name": "python"
    }
  },
  "nbformat": 4,
  "nbformat_minor": 0
}
