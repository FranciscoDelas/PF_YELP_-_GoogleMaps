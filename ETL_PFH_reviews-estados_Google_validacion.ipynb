{
  "cells": [
    {
      "cell_type": "code",
      "execution_count": null,
      "metadata": {
        "cellView": "form",
        "id": "w6MmeBUBJ-9E"
      },
      "outputs": [],
      "source": [
        "# @title Setup\n",
        "from google.colab import auth\n",
        "from google.cloud import bigquery\n",
        "from google.colab import data_table\n",
        "\n",
        "project = 'pf-henry-405314' # Project ID inserted based on the query results selected to explore\n",
        "location = 'US' # Location inserted based on the query results selected to explore\n",
        "client = bigquery.Client(project=project, location=location)\n",
        "data_table.enable_dataframe_formatter()\n",
        "auth.authenticate_user()"
      ]
    },
    {
      "cell_type": "markdown",
      "metadata": {
        "id": "uHx9axvMkyQc"
      },
      "source": [
        "# Librerias"
      ]
    },
    {
      "cell_type": "code",
      "execution_count": null,
      "metadata": {
        "id": "GjFC8gOakU7y"
      },
      "outputs": [],
      "source": [
        "import pandas as pd\n",
        "\n",
        "import datetime\n",
        "\n",
        "from google.cloud import storage\n",
        "from google.cloud import bigquery\n",
        "import pandas\n",
        "import pytz\n",
        "\n",
        "from google.colab import drive\n",
        "from google.colab import auth\n",
        "\n",
        "from pandas import json_normalize\n",
        "\n",
        "from textblob import TextBlob\n"
      ]
    },
    {
      "cell_type": "markdown",
      "metadata": {
        "id": "tc_vnBVSwhvv"
      },
      "source": [
        "# Método directo de Drive"
      ]
    },
    {
      "cell_type": "markdown",
      "metadata": {
        "id": "ZOczo-zUwtLC"
      },
      "source": [
        "# New Mexico, California, Arizona, Alabama, Arkansas, Florida, Georgia, Louisiana, Mississippi, North Carolina, Oklahoma, South Carolina, Texas, Tennessee"
      ]
    },
    {
      "cell_type": "code",
      "execution_count": null,
      "metadata": {
        "colab": {
          "base_uri": "https://localhost:8080/"
        },
        "id": "1qKjbyXYvOKx",
        "outputId": "52cbaada-2936-45e6-e0dc-8d43664a0d81"
      },
      "outputs": [
        {
          "name": "stdout",
          "output_type": "stream",
          "text": [
            "Mounted at /content/drive\n"
          ]
        }
      ],
      "source": [
        "# se extraen los archivos de drive, se precesan y se cargan a BigQuery (este metodo es para validacion)\n",
        "\n",
        "def clean_dataframe(df):\n",
        "    \"\"\" funcion de pre-procesamiento que se aplica a cada dataframe creado a partir de la consulta en BigQuery\"\"\"\n",
        "\n",
        "    df.drop(['pics'], axis=1, inplace=True)\n",
        "    df['resp'] = df['resp'].fillna(0)\n",
        "    df['resp'] = df['resp'].where(df['resp'] == 0, 1)\n",
        "    df['user_id'] = df['user_id'].astype(str)\n",
        "    df.dropna(inplace=True)\n",
        "    df.drop_duplicates(inplace=True)\n",
        "    df['user_id'] = df['user_id'].str.replace('.', '', regex=True).str.replace('e\\+20', '', regex=True)\n",
        "    df['time'] = pd.to_datetime(df['time'], unit='ms')\n",
        "    df['state'] = 'Alabama'\n",
        "    df = df[df['time'].dt.year > 2017]\n",
        "\n",
        "# Montar el drive\n",
        "drive.mount('/content/drive')\n",
        "\n",
        "# Acceder a la carpeta compartida\n",
        "folder_path = \"/content/drive/My Drive/Google Maps/reviews-estados/review-Alabama/\" # para cargar los reviews de otro estado solo se cambia el nombre del estado\n",
        "\n",
        "# Crear un diccionario para almacenar los dataframes\n",
        "dataframes = []\n",
        "\n",
        "# Leer y limpiar cada archivo .json\n",
        "for i in range(1,13):  #rango según la cantidad de archivos .json\n",
        "    filename = str(i) + '.json'\n",
        "    file_path = folder_path + filename\n",
        "    data = pd.read_json(file_path, lines=True)\n",
        "    clean_dataframe(data)\n",
        "    dataframes.append(data)\n",
        "\n",
        "# Concatenar los dataframes en uno solo\n",
        "result = pd.concat(dataframes, ignore_index=True)"
      ]
    },
    {
      "cell_type": "code",
      "execution_count": null,
      "metadata": {
        "id": "kIY1yoaswYYR"
      },
      "outputs": [],
      "source": [
        "# se cargan en bigquery las tablas generadas estado por estado\n",
        "\n",
        "auth.authenticate_user()\n",
        "print('Authenticated')\n",
        "\n",
        "# Especificar el proyecto y el dataset de BigQuery\n",
        "project_id = 'pf-henry-405314'\n",
        "\n",
        "table_id = 'pf-henry-405314.Google.Alabama'\n",
        "\n",
        "# Crear un cliente de BigQuery\n",
        "client = bigquery.Client(project=project_id)\n",
        "\n",
        "# Cargar el DataFrame a BigQuery\n",
        "job_config =  bigquery.LoadJobConfig( schema =  [\n",
        "                bigquery.SchemaField('gmap_id',\tbigquery.enums.SqlTypeNames.STRING),\n",
        "                bigquery.SchemaField('rating',\tbigquery.enums.SqlTypeNames.INTEGER),\n",
        "                bigquery.SchemaField('text',\tbigquery.enums.SqlTypeNames.STRING),\n",
        "                bigquery.SchemaField('resp',\tbigquery.enums.SqlTypeNames.INTEGER),\n",
        "                bigquery.SchemaField('time',\tbigquery.enums.SqlTypeNames.DATETIME),\n",
        "                bigquery.SchemaField('name',\tbigquery.enums.SqlTypeNames.STRING),\n",
        "                bigquery.SchemaField('user_id',\tbigquery.enums.SqlTypeNames.STRING),\n",
        "                bigquery.SchemaField('state',\tbigquery.enums.SqlTypeNames.STRING)\n",
        "                ],\n",
        "              write_disposition=\"WRITE_TRUNCATE\",)\n",
        "\n",
        "job = client.load_table_from_dataframe(result, table_id, job_config=job_config)  # llamada a la API\n",
        "\n",
        "job.result()  # Espera mientras se ejecuta el trabajo\n",
        "\n",
        "table = client.get_table(table_id)  # llamada a la API\n",
        "\n",
        "print(\"Cargadas {} filas y {} columnas a {}\".format(table.num_rows, len(table.schema), table_id))"
      ]
    }
  ],
  "metadata": {
    "colab": {
      "cell_execution_strategy": "setup",
      "provenance": []
    },
    "kernelspec": {
      "display_name": "Python 3",
      "name": "python3"
    },
    "language_info": {
      "name": "python"
    }
  },
  "nbformat": 4,
  "nbformat_minor": 0
}
